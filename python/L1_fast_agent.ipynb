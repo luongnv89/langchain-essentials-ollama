{
 "cells": [
  {
   "cell_type": "markdown",
   "id": "35e59623-ae71-4947-864b-4a750a2fa883",
   "metadata": {},
   "source": [
    "# Fast Agent - Build a SQL Agent fast!\n",
    "\n",
    "<img src=\"./assets/LC_L1_top.png\" align=\"left\" width=\"500\">"
   ]
  },
  {
   "cell_type": "markdown",
   "id": "b0915e23-8230-4f65-9db6-4d60e9970021",
   "metadata": {},
   "source": [
    "## Setup"
   ]
  },
  {
   "cell_type": "markdown",
   "id": "a6aa0345-502c-4484-b8cd-b32cde59872a",
   "metadata": {},
   "source": [
    "Load and/or check for needed environmental variables"
   ]
  },
  {
   "cell_type": "code",
   "execution_count": 1,
   "id": "52e8812d-a873-494d-8583-ee742dcdd9e7",
   "metadata": {},
   "outputs": [
    {
     "name": "stdout",
     "output_type": "stream",
     "text": [
      "OPENAI_API_KEY=<not set>\n",
      "LANGSMITH_API_KEY=****4abe\n",
      "LANGSMITH_TRACING=true\n",
      "LANGSMITH_PROJECT=****ad-6\n"
     ]
    }
   ],
   "source": [
    "from dotenv import load_dotenv\n",
    "from env_utils import doublecheck_env\n",
    "\n",
    "# Load environment variables from .env\n",
    "load_dotenv()\n",
    "\n",
    "# Check and print results\n",
    "doublecheck_env(\"example.env\")"
   ]
  },
  {
   "cell_type": "code",
   "execution_count": 2,
   "id": "1ba24dd6-7a31-4fba-8077-2bff96e1ed4a",
   "metadata": {},
   "outputs": [],
   "source": [
    "from langchain_community.utilities import SQLDatabase\n",
    "\n",
    "db = SQLDatabase.from_uri(\"sqlite:///Chinook.db\")"
   ]
  },
  {
   "cell_type": "markdown",
   "id": "ae0d70a9-e4c2-4d34-9492-c61ca8e03a49",
   "metadata": {},
   "source": [
    "Define the runtime context to provide the agent and tools with access to the database."
   ]
  },
  {
   "cell_type": "code",
   "execution_count": 3,
   "id": "b49e1986-f13b-45da-b673-5c1a7d801f0a",
   "metadata": {},
   "outputs": [],
   "source": [
    "from dataclasses import dataclass\n",
    "\n",
    "from langchain_community.utilities import SQLDatabase\n",
    "\n",
    "\n",
    "# define context structure to support dependency injection\n",
    "@dataclass\n",
    "class RuntimeContext:\n",
    "    db: SQLDatabase"
   ]
  },
  {
   "cell_type": "markdown",
   "id": "5c381252-1f45-44d3-bc3d-ed871459c12c",
   "metadata": {},
   "source": [
    "<b>⚠️ Security Note:</b> This demo does not include a filter on LLM-generated commands. In production, you would want to limit the scope of LLM-generated commands. ⚠️   \n",
    "This tool will connect to the database. Note the use of `get_runtime` to access the graph **runtime context**."
   ]
  },
  {
   "cell_type": "code",
   "execution_count": 4,
   "id": "5d7f0b2c-200a-4246-b547-aff9b5185562",
   "metadata": {},
   "outputs": [],
   "source": [
    "from langchain_core.tools import tool\n",
    "from langgraph.runtime import get_runtime\n",
    "\n",
    "@tool\n",
    "def execute_sql(query: str) -> str:\n",
    "    \"\"\"Execute a SQLite command and return results.\"\"\"\n",
    "    runtime = get_runtime(RuntimeContext)\n",
    "    db = runtime.context.db\n",
    "\n",
    "    try:\n",
    "        return db.run(query)\n",
    "    except Exception as e:\n",
    "        return f\"Error: {e}\""
   ]
  },
  {
   "cell_type": "markdown",
   "id": "f840a84a-c131-490d-80b6-75db5b341880",
   "metadata": {},
   "source": [
    "Add a system prompt to define your agents behavior."
   ]
  },
  {
   "cell_type": "code",
   "execution_count": 5,
   "id": "29e1c020-db18-418a-8693-cb4ed21d4f58",
   "metadata": {},
   "outputs": [],
   "source": [
    "SYSTEM_PROMPT = \"\"\"You are a careful SQLite analyst.\n",
    "\n",
    "Rules:\n",
    "- Think step-by-step.\n",
    "- When you need data, call the tool `execute_sql` with ONE SELECT query.\n",
    "- Read-only only; no INSERT/UPDATE/DELETE/ALTER/DROP/CREATE/REPLACE/TRUNCATE.\n",
    "- Limit to 5 rows of output unless the user explicitly asks otherwise.\n",
    "- If the tool returns 'Error:', revise the SQL and try again.\n",
    "- Prefer explicit column lists; avoid SELECT *.\n",
    "\"\"\""
   ]
  },
  {
   "cell_type": "markdown",
   "id": "c2aad1bb-d3bb-4ecc-b366-d6cb488388c6",
   "metadata": {},
   "source": [
    "Create your agent! Add a model, tools, a prompt, and the runtime access, and go!  You can choose many agents from our [integrations](https://docs.langchain.com/oss/python/integrations/providers) list. "
   ]
  },
  {
   "cell_type": "code",
   "execution_count": null,
   "id": "a26b4586-453a-4c10-9fae-4be3f4cb6cd4",
   "metadata": {},
   "outputs": [],
   "source": [
    "from langchain.agents import create_agent\n",
    "\n",
    "agent = create_agent(\n",
    "    model=\"ollama:gpt-oss:20b\",\n",
    "    tools=[execute_sql],\n",
    "    system_prompt=SYSTEM_PROMPT,\n",
    "    context_schema=RuntimeContext,\n",
    ")"
   ]
  },
  {
   "cell_type": "markdown",
   "id": "3b468284-65de-47fa-be31-826b706159e4",
   "metadata": {},
   "source": [
    "Here's a display of the agent ReAct Loop."
   ]
  },
  {
   "cell_type": "code",
   "execution_count": 12,
   "id": "8a1ac705-41b8-4a38-b346-c170b61651b8",
   "metadata": {},
   "outputs": [
    {
     "data": {
      "image/png": "[encoded data removed]",
      "text/plain": [
       "<IPython.core.display.Image object>"
      ]
     },
     "metadata": {},
     "output_type": "display_data"
    }
   ],
   "source": [
    "from IPython.display import Image, display\n",
    "\n",
    "display(Image(agent.get_graph(xray=True).draw_mermaid_png()))"
   ]
  },
  {
   "cell_type": "markdown",
   "id": "011ba4e6-5397-41b5-8416-1db6952c3157",
   "metadata": {},
   "source": [
    "Run some queries. Notice:\n",
    "- The agent does not have the database schema and will need to discover it independently.\n",
    "- The agent may make mistakes! By returning error messages, the agent can self-correct its queries.\n",
    "- Notice you invoke the agent with `agent.stream`.\n",
    "    - This command and the `pretty_print` display the **messages** that communicate information between the model and the tools.\n",
    "- Notice the agent doesn't remember the schema between invocations... More on this later!"
   ]
  },
  {
   "cell_type": "code",
   "execution_count": 13,
   "id": "e30a2273-1dd3-47e8-a38e-05ed4b750000",
   "metadata": {},
   "outputs": [
    {
     "name": "stdout",
     "output_type": "stream",
     "text": [
      "================================\u001b[1m Human Message \u001b[0m=================================\n",
      "\n",
      "Which table has the largest number of entries?\n",
      "==================================\u001b[1m Ai Message \u001b[0m==================================\n",
      "Tool Calls:\n",
      "  execute_sql (7d7d2a87-0bcb-48c1-b355-94348cbe3d6c)\n",
      " Call ID: 7d7d2a87-0bcb-48c1-b355-94348cbe3d6c\n",
      "  Args:\n",
      "    query: SELECT name, COUNT(*) as count FROM sqlite_master WHERE type='table' GROUP BY name ORDER BY count DESC LIMIT 1\n",
      "=================================\u001b[1m Tool Message \u001b[0m=================================\n",
      "Name: execute_sql\n",
      "\n",
      "[('Track', 1)]\n",
      "==================================\u001b[1m Ai Message \u001b[0m==================================\n",
      "\n",
      "The table with the largest number of entries is 'Track'.\n"
     ]
    }
   ],
   "source": [
    "question = \"Which table has the largest number of entries?\"\n",
    "\n",
    "for step in agent.stream(\n",
    "    {\"messages\": question},\n",
    "    context=RuntimeContext(db=db),\n",
    "    stream_mode=\"values\",\n",
    "):\n",
    "    step[\"messages\"][-1].pretty_print()"
   ]
  },
  {
   "cell_type": "code",
   "execution_count": 14,
   "id": "7797b8f4-3d52-405c-a16e-baa2a71127df",
   "metadata": {},
   "outputs": [
    {
     "name": "stdout",
     "output_type": "stream",
     "text": [
      "================================\u001b[1m Human Message \u001b[0m=================================\n",
      "\n",
      "Which genre on average has the longest tracks?\n",
      "==================================\u001b[1m Ai Message \u001b[0m==================================\n",
      "Tool Calls:\n",
      "  execute_sql (1bcbca77-4a64-4bc9-a122-efaf36e0ccb3)\n",
      " Call ID: 1bcbca77-4a64-4bc9-a122-efaf36e0ccb3\n",
      "  Args:\n",
      "    query: SELECT genre, AVG(duration) FROM music WHERE duration != 0 GROUP BY genre LIMIT 5\n",
      "=================================\u001b[1m Tool Message \u001b[0m=================================\n",
      "Name: execute_sql\n",
      "\n",
      "Error: (sqlite3.OperationalError) no such table: music\n",
      "[SQL: SELECT genre, AVG(duration) FROM music WHERE duration != 0 GROUP BY genre LIMIT 5]\n",
      "(Background on this error at: https://sqlalche.me/e/20/e3q8)\n",
      "==================================\u001b[1m Ai Message \u001b[0m==================================\n",
      "\n",
      "It seems that the `music` table does not exist in the database. I will create a new query to find out which genres have tracks with the longest duration.\n",
      "\n",
      "{\"name\": \"execute_sql\", \"parameters\": {\"query\":\"PRAGMA table_info(music)\"}}\n"
     ]
    }
   ],
   "source": [
    "question = \"Which genre on average has the longest tracks?\"\n",
    "\n",
    "for step in agent.stream(\n",
    "    {\"messages\": question},\n",
    "    context=RuntimeContext(db=db),\n",
    "    stream_mode=\"values\",\n",
    "):\n",
    "    step[\"messages\"][-1].pretty_print()"
   ]
  },
  {
   "cell_type": "code",
   "execution_count": 16,
   "id": "a48e3902-d3d6-49a0-8f60-b8ba3d1f7400",
   "metadata": {},
   "outputs": [
    {
     "name": "stdout",
     "output_type": "stream",
     "text": [
      "================================\u001b[1m Human Message \u001b[0m=================================\n",
      "\n",
      "Please list all of the tables?\n",
      "==================================\u001b[1m Ai Message \u001b[0m==================================\n",
      "Tool Calls:\n",
      "  execute_sql (10df9844-a45d-468b-8a5d-e6f5c65090e8)\n",
      " Call ID: 10df9844-a45d-468b-8a5d-e6f5c65090e8\n",
      "  Args:\n",
      "    query: SELECT name FROM sqlite_master WHERE type='table'\n",
      "=================================\u001b[1m Tool Message \u001b[0m=================================\n",
      "Name: execute_sql\n",
      "\n",
      "[('Album',), ('Artist',), ('Customer',), ('Employee',), ('Genre',), ('Invoice',), ('InvoiceLine',), ('MediaType',), ('Playlist',), ('PlaylistTrack',), ('Track',)]\n",
      "==================================\u001b[1m Ai Message \u001b[0m==================================\n",
      "\n",
      "The tables in the database are:\n",
      "\n",
      "1. Album\n",
      "2. Artist\n",
      "3. Customer\n",
      "4. Employee\n",
      "5. Genre\n",
      "6. Invoice\n",
      "7. InvoiceLine\n",
      "8. MediaType\n",
      "9. Playlist\n",
      "10. PlaylistTrack\n",
      "11. Track\n"
     ]
    }
   ],
   "source": [
    "question = \"Please list all of the tables?\"\n",
    "\n",
    "for step in agent.stream(\n",
    "    {\"messages\": question},\n",
    "    context={\"db\": db},\n",
    "    stream_mode=\"values\",\n",
    "):\n",
    "    step[\"messages\"][-1].pretty_print()"
   ]
  },
  {
   "cell_type": "markdown",
   "id": "06a7ea3b-bf5b-4fe0-bb39-a9ff214fb103",
   "metadata": {},
   "source": [
    "**Create your own query here!**  Add some questions of your own."
   ]
  },
  {
   "cell_type": "code",
   "execution_count": 17,
   "id": "c03b7c7a-6f3d-4553-a2af-25652797ec4f",
   "metadata": {},
   "outputs": [
    {
     "name": "stdout",
     "output_type": "stream",
     "text": [
      "================================\u001b[1m Human Message \u001b[0m=================================\n",
      "\n",
      "How many Artist are there?\n",
      "==================================\u001b[1m Ai Message \u001b[0m==================================\n",
      "Tool Calls:\n",
      "  execute_sql (fd50c691-6ca2-4264-a676-446dede3533a)\n",
      " Call ID: fd50c691-6ca2-4264-a676-446dede3533a\n",
      "  Args:\n",
      "    query: SELECT COUNT(*) FROM Artists\n",
      "=================================\u001b[1m Tool Message \u001b[0m=================================\n",
      "Name: execute_sql\n",
      "\n",
      "Error: (sqlite3.OperationalError) no such table: Artists\n",
      "[SQL: SELECT COUNT(*) FROM Artists]\n",
      "(Background on this error at: https://sqlalche.me/e/20/e3q8)\n",
      "==================================\u001b[1m Ai Message \u001b[0m==================================\n",
      "\n",
      "The SQL query has a syntax error and the table 'Artists' does not exist in the database. \n",
      "\n",
      "Let me try again with the correct table name.\n",
      "\n",
      "```sql\n",
      "SELECT COUNT(*) FROM artists;\n",
      "```\n",
      "\n",
      "I will re-call the `execute_sql` tool with this new query: \n",
      "\n",
      "{\"name\": \"execute_sql\", \"parameters\": {\"query\":\"SELECT COUNT(*) FROM artists\"}}\n"
     ]
    }
   ],
   "source": [
    "question = \"How many Artist are there?\"\n",
    "\n",
    "for step in agent.stream(\n",
    "    {\"messages\": question},\n",
    "    context={\"db\": db},\n",
    "    stream_mode=\"values\",\n",
    "):\n",
    "    step[\"messages\"][-1].pretty_print()"
   ]
  },
  {
   "cell_type": "markdown",
   "id": "2a9cc553-7357-4d36-b88d-25eaf7462cf6",
   "metadata": {},
   "source": [
    "## Let's try this in the agent debugger!"
   ]
  }
 ],
 "metadata": {
  "kernelspec": {
   "display_name": ".venv",
   "language": "python",
   "name": "python3"
  },
  "language_info": {
   "codemirror_mode": {
    "name": "ipython",
    "version": 3
   },
   "file_extension": ".py",
   "mimetype": "text/x-python",
   "name": "python",
   "nbconvert_exporter": "python",
   "pygments_lexer": "ipython3",
   "version": "3.12.10"
  }
 },
 "nbformat": 4,
 "nbformat_minor": 5
}
