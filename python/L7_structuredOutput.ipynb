{
 "cells": [
  {
   "cell_type": "markdown",
   "id": "483ab18e-f419-46ad-9bbe-171ffd05f983",
   "metadata": {},
   "source": [
    "# Structured Output\n",
    "<img src=\"./assets/LC_StructuredOutput.png\" width=\"500\">\n"
   ]
  },
  {
   "cell_type": "markdown",
   "id": "3b49cb3c-d6c4-4091-b61b-cf9631b29895",
   "metadata": {},
   "source": [
    "## Setup"
   ]
  },
  {
   "cell_type": "markdown",
   "id": "65e77dfb-feb2-4872-b815-d751a5270671",
   "metadata": {},
   "source": [
    "Load and/or check for needed environmental variables"
   ]
  },
  {
   "cell_type": "code",
   "execution_count": 1,
   "id": "24eb635c-407c-4356-b96a-fe14901a40ea",
   "metadata": {},
   "outputs": [
    {
     "name": "stdout",
     "output_type": "stream",
     "text": [
      "OPENAI_API_KEY=<not set>\n",
      "LANGSMITH_API_KEY=****4abe\n",
      "LANGSMITH_TRACING=true\n",
      "LANGSMITH_PROJECT=****ad-6\n"
     ]
    }
   ],
   "source": [
    "from dotenv import load_dotenv\n",
    "from env_utils import doublecheck_env\n",
    "\n",
    "# Load environment variables from .env\n",
    "load_dotenv()\n",
    "\n",
    "# Check and print results\n",
    "doublecheck_env(\"example.env\")"
   ]
  },
  {
   "cell_type": "markdown",
   "id": "0b5c8b4b-5326-40fe-9107-f2dec9534d55",
   "metadata": {},
   "source": [
    "## Structured Output Example"
   ]
  },
  {
   "cell_type": "code",
   "execution_count": 2,
   "id": "1c74a656-1563-46ce-9719-7897d33d5980",
   "metadata": {},
   "outputs": [
    {
     "data": {
      "text/plain": [
       "{'name': 'John Doe', 'email': 'john@example.com', 'phone': '555-123-4567'}"
      ]
     },
     "execution_count": 2,
     "metadata": {},
     "output_type": "execute_result"
    }
   ],
   "source": [
    "from typing_extensions import TypedDict\n",
    "\n",
    "from langchain.agents import create_agent\n",
    "\n",
    "\n",
    "class ContactInfo(TypedDict):\n",
    "    name: str\n",
    "    email: str\n",
    "    phone: str\n",
    "\n",
    "\n",
    "agent = create_agent(model=\"ollama:gpt-oss:20b\", response_format=ContactInfo)\n",
    "\n",
    "recorded_conversation = \"\"\"We talked with John Doe. He works over at Example. His number is, let's see,\n",
    "five, five, five, one two three, four, five, six seven. Did you get that?\n",
    "And, his email was john at example.com. He wanted to order 50 boxes of Captain Crunch.\"\"\"\n",
    "\n",
    "result = agent.invoke(\n",
    "    {\"messages\": [{\"role\": \"user\", \"content\": recorded_conversation}]}\n",
    ")\n",
    "\n",
    "result[\"structured_response\"]"
   ]
  },
  {
   "cell_type": "markdown",
   "id": "595fc4e1-bf6d-4a62-8ac8-2f52a921da5e",
   "metadata": {},
   "source": [
    "#### Multiple data types are supported "
   ]
  },
  {
   "cell_type": "markdown",
   "id": "627a5354-4713-4951-a710-11698690c117",
   "metadata": {},
   "source": [
    "* pydantic `BaseModel`\n",
    "* `TypedDict`\n",
    "* `dataclasses`\n",
    "* json schema (dict)"
   ]
  },
  {
   "cell_type": "code",
   "execution_count": 3,
   "id": "a26b4586-453a-4c10-9fae-4be3f4cb6cd4",
   "metadata": {},
   "outputs": [
    {
     "data": {
      "text/plain": [
       "ContactInfo(name='John Doe', email='john@example.com', phone='555-123-4567')"
      ]
     },
     "execution_count": 3,
     "metadata": {},
     "output_type": "execute_result"
    }
   ],
   "source": [
    "from langchain.agents import create_agent\n",
    "from pydantic import BaseModel\n",
    "\n",
    "\n",
    "class ContactInfo(BaseModel):\n",
    "    name: str\n",
    "    email: str\n",
    "    phone: str\n",
    "\n",
    "\n",
    "agent = create_agent(model=\"ollama:gpt-oss:20b\", response_format=ContactInfo)\n",
    "\n",
    "recorded_conversation = \"\"\" We talked with John Doe. He works over at Example. His number is, let's see,\n",
    "five, five, five, one two three, four, five, six seven. Did you get that?\n",
    "And, his email was john at example.com. He wanted to order 50 boxes of Captain Crunch.\"\"\"\n",
    "\n",
    "result = agent.invoke(\n",
    "    {\"messages\": [{\"role\": \"user\", \"content\": recorded_conversation}]}\n",
    ")\n",
    "\n",
    "result[\"structured_response\"]"
   ]
  }
 ],
 "metadata": {
  "kernelspec": {
   "display_name": ".venv",
   "language": "python",
   "name": "python3"
  },
  "language_info": {
   "codemirror_mode": {
    "name": "ipython",
    "version": 3
   },
   "file_extension": ".py",
   "mimetype": "text/x-python",
   "name": "python",
   "nbconvert_exporter": "python",
   "pygments_lexer": "ipython3",
   "version": "3.12.10"
  }
 },
 "nbformat": 4,
 "nbformat_minor": 5
}
