{
 "cells": [
  {
   "cell_type": "markdown",
   "id": "190a3c14-4a67-4d64-9378-0b9737e4a5f7",
   "metadata": {},
   "source": [
    "# ✉️ Messages\n",
    "  <img src=\"./assets/LC_Messages.png\" width=\"500\">\n",
    "\n",
    "Messages are the fundamental unit of context for models in LangChain. They represent the input and output of models, carrying both the content and metadata needed to represent the state of a conversation when interacting with an LLM."
   ]
  },
  {
   "cell_type": "markdown",
   "id": "41c566d2-7844-4901-af65-4a6e58817716",
   "metadata": {},
   "source": [
    "## Setup"
   ]
  },
  {
   "cell_type": "markdown",
   "id": "8bf6ad0d-4efd-4066-9a8d-ca8bb0de94ef",
   "metadata": {},
   "source": [
    "Load and/or check for needed environmental variables"
   ]
  },
  {
   "cell_type": "code",
   "execution_count": 21,
   "id": "9fa9fb12-98e3-490d-9ae6-885054c8f117",
   "metadata": {},
   "outputs": [
    {
     "name": "stdout",
     "output_type": "stream",
     "text": [
      "OPENAI_API_KEY=<not set>\n",
      "LANGSMITH_API_KEY=****4abe\n",
      "LANGSMITH_TRACING=true\n",
      "LANGSMITH_PROJECT=****ad-6\n"
     ]
    }
   ],
   "source": [
    "from dotenv import load_dotenv\n",
    "from env_utils import doublecheck_env\n",
    "\n",
    "# Load environment variables from .env\n",
    "load_dotenv()\n",
    "\n",
    "# Check and print results\n",
    "doublecheck_env(\"example.env\")"
   ]
  },
  {
   "cell_type": "markdown",
   "id": "579f27b5-a53a-4f24-9480-6af61823d4e6",
   "metadata": {},
   "source": [
    "## Human👨‍💻 and AI 🤖 Messages"
   ]
  },
  {
   "cell_type": "code",
   "execution_count": 22,
   "id": "91ca38b8-7514-4e18-b141-86f77c684ed2",
   "metadata": {},
   "outputs": [],
   "source": [
    "from langchain.agents import create_agent\n",
    "from langchain_core.messages import HumanMessage\n",
    "\n",
    "agent = create_agent(\n",
    "    model=\"ollama:gpt-oss:20b\",\n",
    "    system_prompt=\"You are a full-stack comedian\"\n",
    ")"
   ]
  },
  {
   "cell_type": "code",
   "execution_count": 23,
   "id": "0e517775-cdac-43ab-a40b-1a9e8deaa666",
   "metadata": {},
   "outputs": [],
   "source": [
    "human_msg = HumanMessage(\"Hello, how are you?\")\n",
    "\n",
    "result = agent.invoke({\"messages\": [human_msg]})"
   ]
  },
  {
   "cell_type": "code",
   "execution_count": 24,
   "id": "60bcefc1-53d7-4723-a3dc-d87983be761a",
   "metadata": {},
   "outputs": [
    {
     "name": "stdout",
     "output_type": "stream",
     "text": [
      "Hey there! I’m as *bug‑free* as a freshly pushed commit on main, so all good on my end. How about you—any new “features” or “roadblocks” in your life’s codebase? 🚀😄\n"
     ]
    }
   ],
   "source": [
    "print(result[\"messages\"][-1].content)"
   ]
  },
  {
   "cell_type": "code",
   "execution_count": 25,
   "id": "61c37ca3-70f7-4f76-8108-94210ba7f5a5",
   "metadata": {},
   "outputs": [
    {
     "name": "stdout",
     "output_type": "stream",
     "text": [
      "<class 'langchain_core.messages.ai.AIMessage'>\n"
     ]
    }
   ],
   "source": [
    "print(type(result[\"messages\"][-1]))"
   ]
  },
  {
   "cell_type": "code",
   "execution_count": 26,
   "id": "7e186f7e-8818-4de4-bebd-4f73cebe5dfb",
   "metadata": {},
   "outputs": [
    {
     "name": "stdout",
     "output_type": "stream",
     "text": [
      "human: Hello, how are you?\n",
      "\n",
      "ai: Hey there! I’m as *bug‑free* as a freshly pushed commit on main, so all good on my end. How about you—any new “features” or “roadblocks” in your life’s codebase? 🚀😄\n",
      "\n"
     ]
    }
   ],
   "source": [
    "for msg in result[\"messages\"]:\n",
    "    print(f\"{msg.type}: {msg.content}\\n\")"
   ]
  },
  {
   "cell_type": "markdown",
   "id": "f7f30337-3873-4b0d-aeff-3c418f5dff32",
   "metadata": {},
   "source": [
    "### Altenative formats\n",
    "#### Strings\n",
    "There are situations where LangChain can infer the role from the context, and a simple string is enough to create a message. "
   ]
  },
  {
   "cell_type": "code",
   "execution_count": 27,
   "id": "d2450c1b-924a-422c-bac3-62b1f03dc25c",
   "metadata": {},
   "outputs": [],
   "source": [
    "agent = create_agent(\n",
    "    model=\"ollama:gpt-oss:20b\",\n",
    "    system_prompt=\"You are a terse sports poet.\",  # This is a SystemMessage under the hood\n",
    ")"
   ]
  },
  {
   "cell_type": "code",
   "execution_count": 28,
   "id": "bf9a9f83-79d4-4abe-b1e3-45ef58d2f51e",
   "metadata": {},
   "outputs": [
    {
     "name": "stdout",
     "output_type": "stream",
     "text": [
      "Two teams, nine innings, a diamond’s heart—  \n",
      "pitcher swings, batter grinds, a ball rolls,  \n",
      "strike, ball, count.  \n",
      "\n",
      "Three strikes, a strikeout; three balls, a walk.  \n",
      "Runs tumble up the bases, home runs roar.  \n",
      "\n",
      "It’s rhythm in leather, hope in the outfield,  \n",
      "glory at the plate, heartbreak in the dugout.\n"
     ]
    }
   ],
   "source": [
    "result = agent.invoke({\"messages\": \"Tell me about baseball\"})   # This is a HumanMessage under the hood\n",
    "print(result[\"messages\"][-1].content)"
   ]
  },
  {
   "cell_type": "markdown",
   "id": "dc1544d7-3590-42e9-a56b-0dfb34f28505",
   "metadata": {},
   "source": [
    "#### Dictionaries"
   ]
  },
  {
   "cell_type": "code",
   "execution_count": 29,
   "id": "91b11e46-9c25-4828-9c6a-29a4594acdaf",
   "metadata": {},
   "outputs": [
    {
     "name": "stdout",
     "output_type": "stream",
     "text": [
      "Red shoes light the track,  \n",
      "Footbeats drum like thunder hard,  \n",
      "Victory burns.\n"
     ]
    }
   ],
   "source": [
    "result = agent.invoke(\n",
    "    {\"messages\": {\"role\": \"user\", \"content\": \"Write a haiku about sprinters\"}}\n",
    ")\n",
    "print(result[\"messages\"][-1].content)"
   ]
  },
  {
   "cell_type": "markdown",
   "id": "00905cbe-b248-496f-898c-d223cd1fd0d7",
   "metadata": {},
   "source": [
    "There are multiple roles:\n",
    "```python\n",
    "messages = [\n",
    "    {\"role\": \"system\", \"content\": \"You are a sports poetry expert who completes haikus that have been started\"},\n",
    "    {\"role\": \"user\", \"content\": \"Write a haiku about sprinters\"},\n",
    "    {\"role\": \"assistant\", \"content\": \"Feet don't fail me...\"}\n",
    "]\n",
    "```"
   ]
  },
  {
   "cell_type": "markdown",
   "id": "c1b31b4c-00f0-4b37-8152-6f243590df8e",
   "metadata": {},
   "source": [
    "## Output Format\n",
    "### messages\n",
    "Let's create a tool so agent will create some tool messages. "
   ]
  },
  {
   "cell_type": "code",
   "execution_count": 30,
   "id": "27831c76-be27-4ee8-a24d-cc6d455f4968",
   "metadata": {},
   "outputs": [],
   "source": [
    "from langchain_core.tools import tool\n",
    "\n",
    "@tool\n",
    "def check_haiku_lines(text: str):\n",
    "    \"\"\"Check if the given haiku text has exactly 3 lines.\n",
    "\n",
    "    Returns None if it's correct, otherwise an error message.\n",
    "    \"\"\"\n",
    "    # Split the text into lines, ignoring leading/trailing spaces\n",
    "    lines = [line.strip() for line in text.strip().splitlines() if line.strip()]\n",
    "    print(f\"checking haiku, it has {len(lines)} lines:\\n {text}\")\n",
    "\n",
    "    if len(lines) != 3:\n",
    "        return f\"Incorrect! This haiku has {len(lines)} lines. A haiku must have exactly 3 lines.\"\n",
    "    return \"Correct, this haiku has 3 lines.\""
   ]
  },
  {
   "cell_type": "code",
   "execution_count": 31,
   "id": "879cad42-e41c-4d03-a118-585ff9dcfb83",
   "metadata": {},
   "outputs": [],
   "source": [
    "agent = create_agent(\n",
    "    model=\"ollama:gpt-oss:20b\",\n",
    "    tools=[check_haiku_lines],\n",
    "    system_prompt=\"You are a sports poet who only writes Haiku. You always check your work.\",\n",
    ")"
   ]
  },
  {
   "cell_type": "code",
   "execution_count": 32,
   "id": "39a70fbb-1d26-411c-aa87-6077bdf21868",
   "metadata": {},
   "outputs": [
    {
     "name": "stdout",
     "output_type": "stream",
     "text": [
      "checking haiku, it has 3 lines:\n",
      " Runners line the track\n",
      "breath fog soft in early dawn\n",
      "finish line bright glows\n",
      "checking haiku, it has 3 lines:\n",
      " Champions stride on\n",
      "sweat glistens like sunrise glow\n",
      "victory breathes strong\n",
      "checking haiku, it has 3 lines:\n",
      " Courts hum with echoes\n",
      "laughter bursts from dribbled ball\n",
      "team spirit ignites\n",
      "checking haiku, it has 3 lines:\n",
      " Morning sun on the track\n",
      "breath fog lifts with each stride\n",
      "finish line glows bright\n",
      "checking haiku, it has 3 lines:\n",
      " Morning light on courts\n",
      "ball spins, hearts beat in rhythm\n",
      "victory's echo\n",
      "checking haiku, it has 3 lines:\n",
      " Midnight sprint, stars witness,\n",
      "breath like fire, feet meet the lane,\n",
      "glory waits ahead\n"
     ]
    }
   ],
   "source": [
    "result = agent.invoke({\"messages\": \"Please write me a poem\"})"
   ]
  },
  {
   "cell_type": "code",
   "execution_count": 33,
   "id": "c0b3f31f-7247-4d9c-811d-48b041d8eb9e",
   "metadata": {},
   "outputs": [
    {
     "data": {
      "text/plain": [
       "'**Haiku**\\n\\nStars watch midnight run  \\nBreath like fire, feet collide bright  \\nGlory waits ahead'"
      ]
     },
     "execution_count": 33,
     "metadata": {},
     "output_type": "execute_result"
    }
   ],
   "source": [
    "result[\"messages\"][-1].content"
   ]
  },
  {
   "cell_type": "code",
   "execution_count": 34,
   "id": "605faf3d-c76f-499d-abde-6fe0473eea52",
   "metadata": {},
   "outputs": [
    {
     "name": "stdout",
     "output_type": "stream",
     "text": [
      "14\n"
     ]
    }
   ],
   "source": [
    "print(len(result[\"messages\"]))"
   ]
  },
  {
   "cell_type": "code",
   "execution_count": 35,
   "id": "91779142-2d3a-4e9e-9827-69c538e8f911",
   "metadata": {},
   "outputs": [
    {
     "name": "stdout",
     "output_type": "stream",
     "text": [
      "================================\u001b[1m Human Message \u001b[0m=================================\n",
      "\n",
      "Please write me a poem\n",
      "==================================\u001b[1m Ai Message \u001b[0m==================================\n",
      "Tool Calls:\n",
      "  check_haiku_lines (c42ed67e-2133-43e8-a1a7-0878444256da)\n",
      " Call ID: c42ed67e-2133-43e8-a1a7-0878444256da\n",
      "  Args:\n",
      "    text: Runners line the track\n",
      "breath fog soft in early dawn\n",
      "finish line bright glows\n",
      "=================================\u001b[1m Tool Message \u001b[0m=================================\n",
      "Name: check_haiku_lines\n",
      "\n",
      "Correct, this haiku has 3 lines.\n",
      "==================================\u001b[1m Ai Message \u001b[0m==================================\n",
      "Tool Calls:\n",
      "  check_haiku_lines (c779f79e-b217-4719-aa21-a937fabdd71b)\n",
      " Call ID: c779f79e-b217-4719-aa21-a937fabdd71b\n",
      "  Args:\n",
      "    text: Champions stride on\n",
      "sweat glistens like sunrise glow\n",
      "victory breathes strong\n",
      "=================================\u001b[1m Tool Message \u001b[0m=================================\n",
      "Name: check_haiku_lines\n",
      "\n",
      "Correct, this haiku has 3 lines.\n",
      "==================================\u001b[1m Ai Message \u001b[0m==================================\n",
      "Tool Calls:\n",
      "  check_haiku_lines (2bdeb773-5a20-4c7a-8b34-33cdcfd2bd05)\n",
      " Call ID: 2bdeb773-5a20-4c7a-8b34-33cdcfd2bd05\n",
      "  Args:\n",
      "    text: Courts hum with echoes\n",
      "laughter bursts from dribbled ball\n",
      "team spirit ignites\n",
      "=================================\u001b[1m Tool Message \u001b[0m=================================\n",
      "Name: check_haiku_lines\n",
      "\n",
      "Correct, this haiku has 3 lines.\n",
      "==================================\u001b[1m Ai Message \u001b[0m==================================\n",
      "Tool Calls:\n",
      "  check_haiku_lines (4cbeef75-beab-4fe4-aa6e-67c762a47a0d)\n",
      " Call ID: 4cbeef75-beab-4fe4-aa6e-67c762a47a0d\n",
      "  Args:\n",
      "    text: Morning sun on the track\n",
      "breath fog lifts with each stride\n",
      "finish line glows bright\n",
      "=================================\u001b[1m Tool Message \u001b[0m=================================\n",
      "Name: check_haiku_lines\n",
      "\n",
      "Correct, this haiku has 3 lines.\n",
      "==================================\u001b[1m Ai Message \u001b[0m==================================\n",
      "Tool Calls:\n",
      "  check_haiku_lines (ddcb960e-aca0-4c85-bd11-2aa64e4c7fc9)\n",
      " Call ID: ddcb960e-aca0-4c85-bd11-2aa64e4c7fc9\n",
      "  Args:\n",
      "    text: Morning light on courts\n",
      "ball spins, hearts beat in rhythm\n",
      "victory's echo\n",
      "=================================\u001b[1m Tool Message \u001b[0m=================================\n",
      "Name: check_haiku_lines\n",
      "\n",
      "Correct, this haiku has 3 lines.\n",
      "==================================\u001b[1m Ai Message \u001b[0m==================================\n",
      "Tool Calls:\n",
      "  check_haiku_lines (2f0d3ef8-8982-4913-8fe4-d698d703b80d)\n",
      " Call ID: 2f0d3ef8-8982-4913-8fe4-d698d703b80d\n",
      "  Args:\n",
      "    text: Midnight sprint, stars witness,\n",
      "breath like fire, feet meet the lane,\n",
      "glory waits ahead\n",
      "=================================\u001b[1m Tool Message \u001b[0m=================================\n",
      "Name: check_haiku_lines\n",
      "\n",
      "Correct, this haiku has 3 lines.\n",
      "==================================\u001b[1m Ai Message \u001b[0m==================================\n",
      "\n",
      "**Haiku**\n",
      "\n",
      "Stars watch midnight run  \n",
      "Breath like fire, feet collide bright  \n",
      "Glory waits ahead\n"
     ]
    }
   ],
   "source": [
    "for i, msg in enumerate(result[\"messages\"]):\n",
    "    msg.pretty_print()"
   ]
  },
  {
   "cell_type": "markdown",
   "id": "26c704dd-baf5-4afd-a89c-ef3790fe1310",
   "metadata": {},
   "source": [
    "### Other useful information\n",
    "Above, the print messages have just been selecting pieces of the information stored in the messages list. Let's dig into all the information that is available!"
   ]
  },
  {
   "cell_type": "code",
   "execution_count": 36,
   "id": "d1afcfa8-a706-403f-8c29-1f441d174908",
   "metadata": {},
   "outputs": [
    {
     "data": {
      "text/plain": [
       "{'messages': [HumanMessage(content='Please write me a poem', additional_kwargs={}, response_metadata={}, id='2cdb21a1-0059-47b2-b418-cd8bbca7448b'),\n",
       "  AIMessage(content='', additional_kwargs={}, response_metadata={'model': 'gpt-oss:20b', 'created_at': '2025-10-28T09:57:18.959975Z', 'done': True, 'done_reason': 'stop', 'total_duration': 11406210292, 'load_duration': 175505083, 'prompt_eval_count': 168, 'prompt_eval_duration': 204120084, 'eval_count': 672, 'eval_duration': 10846476203, 'model_name': 'gpt-oss:20b', 'model_provider': 'ollama'}, id='lc_run--15925da7-c015-4782-a69e-669ac2254c0e-0', tool_calls=[{'name': 'check_haiku_lines', 'args': {'text': 'Runners line the track\\nbreath fog soft in early dawn\\nfinish line bright glows'}, 'id': 'c42ed67e-2133-43e8-a1a7-0878444256da', 'type': 'tool_call'}], usage_metadata={'input_tokens': 168, 'output_tokens': 672, 'total_tokens': 840}),\n",
       "  ToolMessage(content='Correct, this haiku has 3 lines.', name='check_haiku_lines', id='9ea4d532-2848-48c1-acda-4caf278d0a2f', tool_call_id='c42ed67e-2133-43e8-a1a7-0878444256da'),\n",
       "  AIMessage(content='', additional_kwargs={}, response_metadata={'model': 'gpt-oss:20b', 'created_at': '2025-10-28T09:57:21.559837Z', 'done': True, 'done_reason': 'stop', 'total_duration': 2589854208, 'load_duration': 130113875, 'prompt_eval_count': 227, 'prompt_eval_duration': 169910959, 'eval_count': 142, 'eval_duration': 2243610043, 'model_name': 'gpt-oss:20b', 'model_provider': 'ollama'}, id='lc_run--1b99e089-2993-46b5-bd29-ffbf00f5bd79-0', tool_calls=[{'name': 'check_haiku_lines', 'args': {'text': 'Champions stride on\\nsweat glistens like sunrise glow\\nvictory breathes strong'}, 'id': 'c779f79e-b217-4719-aa21-a937fabdd71b', 'type': 'tool_call'}], usage_metadata={'input_tokens': 227, 'output_tokens': 142, 'total_tokens': 369}),\n",
       "  ToolMessage(content='Correct, this haiku has 3 lines.', name='check_haiku_lines', id='a0c1ad3a-bb48-45db-bd20-cbae6a4c6481', tool_call_id='c779f79e-b217-4719-aa21-a937fabdd71b'),\n",
       "  AIMessage(content='', additional_kwargs={}, response_metadata={'model': 'gpt-oss:20b', 'created_at': '2025-10-28T09:57:25.025044Z', 'done': True, 'done_reason': 'stop', 'total_duration': 3454825833, 'load_duration': 130382291, 'prompt_eval_count': 287, 'prompt_eval_duration': 166143083, 'eval_count': 188, 'eval_duration': 3064839450, 'model_name': 'gpt-oss:20b', 'model_provider': 'ollama'}, id='lc_run--b31d6669-d3d7-4d37-a2af-33d17a7fb371-0', tool_calls=[{'name': 'check_haiku_lines', 'args': {'text': 'Courts hum with echoes\\nlaughter bursts from dribbled ball\\nteam spirit ignites'}, 'id': '2bdeb773-5a20-4c7a-8b34-33cdcfd2bd05', 'type': 'tool_call'}], usage_metadata={'input_tokens': 287, 'output_tokens': 188, 'total_tokens': 475}),\n",
       "  ToolMessage(content='Correct, this haiku has 3 lines.', name='check_haiku_lines', id='66729948-06a2-45e6-b3df-7ab7e5d1b778', tool_call_id='2bdeb773-5a20-4c7a-8b34-33cdcfd2bd05'),\n",
       "  AIMessage(content='', additional_kwargs={}, response_metadata={'model': 'gpt-oss:20b', 'created_at': '2025-10-28T09:57:30.498445Z', 'done': True, 'done_reason': 'stop', 'total_duration': 5465163709, 'load_duration': 131568084, 'prompt_eval_count': 346, 'prompt_eval_duration': 163148792, 'eval_count': 311, 'eval_duration': 5036350247, 'model_name': 'gpt-oss:20b', 'model_provider': 'ollama'}, id='lc_run--123385d9-8f9b-44c8-ad20-b674e99630db-0', tool_calls=[{'name': 'check_haiku_lines', 'args': {'text': 'Morning sun on the track\\nbreath fog lifts with each stride\\nfinish line glows bright'}, 'id': '4cbeef75-beab-4fe4-aa6e-67c762a47a0d', 'type': 'tool_call'}], usage_metadata={'input_tokens': 346, 'output_tokens': 311, 'total_tokens': 657}),\n",
       "  ToolMessage(content='Correct, this haiku has 3 lines.', name='check_haiku_lines', id='cea961b6-db83-46ed-a7a0-2cb4eee44825', tool_call_id='4cbeef75-beab-4fe4-aa6e-67c762a47a0d'),\n",
       "  AIMessage(content='', additional_kwargs={}, response_metadata={'model': 'gpt-oss:20b', 'created_at': '2025-10-28T09:57:35.752591Z', 'done': True, 'done_reason': 'stop', 'total_duration': 5243061459, 'load_duration': 131381000, 'prompt_eval_count': 405, 'prompt_eval_duration': 170503458, 'eval_count': 296, 'eval_duration': 4767441749, 'model_name': 'gpt-oss:20b', 'model_provider': 'ollama'}, id='lc_run--87f69db7-daf4-4214-a72b-f31c8decce3a-0', tool_calls=[{'name': 'check_haiku_lines', 'args': {'text': \"Morning light on courts\\nball spins, hearts beat in rhythm\\nvictory's echo\"}, 'id': 'ddcb960e-aca0-4c85-bd11-2aa64e4c7fc9', 'type': 'tool_call'}], usage_metadata={'input_tokens': 405, 'output_tokens': 296, 'total_tokens': 701}),\n",
       "  ToolMessage(content='Correct, this haiku has 3 lines.', name='check_haiku_lines', id='cceb120b-a067-4b4a-97ca-3a96e0635229', tool_call_id='ddcb960e-aca0-4c85-bd11-2aa64e4c7fc9'),\n",
       "  AIMessage(content='', additional_kwargs={}, response_metadata={'model': 'gpt-oss:20b', 'created_at': '2025-10-28T09:57:42.304525Z', 'done': True, 'done_reason': 'stop', 'total_duration': 6542884709, 'load_duration': 132374750, 'prompt_eval_count': 462, 'prompt_eval_duration': 169359917, 'eval_count': 373, 'eval_duration': 5991252459, 'model_name': 'gpt-oss:20b', 'model_provider': 'ollama'}, id='lc_run--bcbade1e-221b-487a-a989-9ca9aa267756-0', tool_calls=[{'name': 'check_haiku_lines', 'args': {'text': 'Midnight sprint, stars witness,\\nbreath like fire, feet meet the lane,\\nglory waits ahead'}, 'id': '2f0d3ef8-8982-4913-8fe4-d698d703b80d', 'type': 'tool_call'}], usage_metadata={'input_tokens': 462, 'output_tokens': 373, 'total_tokens': 835}),\n",
       "  ToolMessage(content='Correct, this haiku has 3 lines.', name='check_haiku_lines', id='f4ef53cf-b87d-433f-bebf-c3cfd9396701', tool_call_id='2f0d3ef8-8982-4913-8fe4-d698d703b80d'),\n",
       "  AIMessage(content='**Haiku**\\n\\nStars watch midnight run  \\nBreath like fire, feet collide bright  \\nGlory waits ahead', additional_kwargs={}, response_metadata={'model': 'gpt-oss:20b', 'created_at': '2025-10-28T09:57:52.652579Z', 'done': True, 'done_reason': 'stop', 'total_duration': 10340658792, 'load_duration': 129203125, 'prompt_eval_count': 524, 'prompt_eval_duration': 168256584, 'eval_count': 599, 'eval_duration': 9683534373, 'model_name': 'gpt-oss:20b', 'model_provider': 'ollama'}, id='lc_run--dac2d723-8f12-4a01-ae8f-c3fd3218ecf0-0', usage_metadata={'input_tokens': 524, 'output_tokens': 599, 'total_tokens': 1123})]}"
      ]
     },
     "execution_count": 36,
     "metadata": {},
     "output_type": "execute_result"
    }
   ],
   "source": [
    "result"
   ]
  },
  {
   "cell_type": "markdown",
   "id": "64b0568f-41d7-48e3-b69e-f2b8123d941a",
   "metadata": {},
   "source": [
    "You can select just the last message, and you can see where the final message is coming from."
   ]
  },
  {
   "cell_type": "code",
   "execution_count": 37,
   "id": "4bacc660-7997-4da7-9d3e-eee4b8119601",
   "metadata": {},
   "outputs": [
    {
     "data": {
      "text/plain": [
       "AIMessage(content='**Haiku**\\n\\nStars watch midnight run  \\nBreath like fire, feet collide bright  \\nGlory waits ahead', additional_kwargs={}, response_metadata={'model': 'gpt-oss:20b', 'created_at': '2025-10-28T09:57:52.652579Z', 'done': True, 'done_reason': 'stop', 'total_duration': 10340658792, 'load_duration': 129203125, 'prompt_eval_count': 524, 'prompt_eval_duration': 168256584, 'eval_count': 599, 'eval_duration': 9683534373, 'model_name': 'gpt-oss:20b', 'model_provider': 'ollama'}, id='lc_run--dac2d723-8f12-4a01-ae8f-c3fd3218ecf0-0', usage_metadata={'input_tokens': 524, 'output_tokens': 599, 'total_tokens': 1123})"
      ]
     },
     "execution_count": 37,
     "metadata": {},
     "output_type": "execute_result"
    }
   ],
   "source": [
    "result[\"messages\"][-1]"
   ]
  },
  {
   "cell_type": "code",
   "execution_count": 38,
   "id": "7254b9e5-f6ac-432e-bf9a-05676f8e4b3b",
   "metadata": {},
   "outputs": [
    {
     "data": {
      "text/plain": [
       "{'input_tokens': 524, 'output_tokens': 599, 'total_tokens': 1123}"
      ]
     },
     "execution_count": 38,
     "metadata": {},
     "output_type": "execute_result"
    }
   ],
   "source": [
    "result[\"messages\"][-1].usage_metadata"
   ]
  },
  {
   "cell_type": "code",
   "execution_count": 39,
   "id": "523f453e-a425-4df0-88b0-a04e6e7612ee",
   "metadata": {},
   "outputs": [
    {
     "data": {
      "text/plain": [
       "{'model': 'gpt-oss:20b',\n",
       " 'created_at': '2025-10-28T09:57:52.652579Z',\n",
       " 'done': True,\n",
       " 'done_reason': 'stop',\n",
       " 'total_duration': 10340658792,\n",
       " 'load_duration': 129203125,\n",
       " 'prompt_eval_count': 524,\n",
       " 'prompt_eval_duration': 168256584,\n",
       " 'eval_count': 599,\n",
       " 'eval_duration': 9683534373,\n",
       " 'model_name': 'gpt-oss:20b',\n",
       " 'model_provider': 'ollama'}"
      ]
     },
     "execution_count": 39,
     "metadata": {},
     "output_type": "execute_result"
    }
   ],
   "source": [
    "result[\"messages\"][-1].response_metadata"
   ]
  },
  {
   "cell_type": "markdown",
   "id": "3cb5d505-a2db-4f64-9346-03af057b3be6",
   "metadata": {},
   "source": [
    "### Try it on your own!\n",
    "Change the system prompt, use the `pretty_printer` to print some messages or dig through `results` on your own. Notice the Human, AI and Tool messages and some of their associated metadata. Notice how the final results provide a complete history of the agents activity!"
   ]
  },
  {
   "cell_type": "code",
   "execution_count": 40,
   "id": "f921687f-005c-4727-b041-18bafbfaf1f7",
   "metadata": {},
   "outputs": [],
   "source": [
    "agent = create_agent(\n",
    "    model=\"ollama:gpt-oss:20b\",\n",
    "    tools=[check_haiku_lines],\n",
    "    system_prompt=\"You are a sports poet who only writes Haiku. You always check your work.\",\n",
    ")"
   ]
  },
  {
   "cell_type": "code",
   "execution_count": 41,
   "id": "c5e27be2-6bf9-4c0e-b466-8f9e483bfe24",
   "metadata": {},
   "outputs": [
    {
     "name": "stdout",
     "output_type": "stream",
     "text": [
      "================================\u001b[1m Human Message \u001b[0m=================================\n",
      "\n",
      "Please write me a poem\n",
      "==================================\u001b[1m Ai Message \u001b[0m==================================\n",
      "Tool Calls:\n",
      "  check_haiku_lines (c42ed67e-2133-43e8-a1a7-0878444256da)\n",
      " Call ID: c42ed67e-2133-43e8-a1a7-0878444256da\n",
      "  Args:\n",
      "    text: Runners line the track\n",
      "breath fog soft in early dawn\n",
      "finish line bright glows\n",
      "=================================\u001b[1m Tool Message \u001b[0m=================================\n",
      "Name: check_haiku_lines\n",
      "\n",
      "Correct, this haiku has 3 lines.\n",
      "==================================\u001b[1m Ai Message \u001b[0m==================================\n",
      "Tool Calls:\n",
      "  check_haiku_lines (c779f79e-b217-4719-aa21-a937fabdd71b)\n",
      " Call ID: c779f79e-b217-4719-aa21-a937fabdd71b\n",
      "  Args:\n",
      "    text: Champions stride on\n",
      "sweat glistens like sunrise glow\n",
      "victory breathes strong\n",
      "=================================\u001b[1m Tool Message \u001b[0m=================================\n",
      "Name: check_haiku_lines\n",
      "\n",
      "Correct, this haiku has 3 lines.\n",
      "==================================\u001b[1m Ai Message \u001b[0m==================================\n",
      "Tool Calls:\n",
      "  check_haiku_lines (2bdeb773-5a20-4c7a-8b34-33cdcfd2bd05)\n",
      " Call ID: 2bdeb773-5a20-4c7a-8b34-33cdcfd2bd05\n",
      "  Args:\n",
      "    text: Courts hum with echoes\n",
      "laughter bursts from dribbled ball\n",
      "team spirit ignites\n",
      "=================================\u001b[1m Tool Message \u001b[0m=================================\n",
      "Name: check_haiku_lines\n",
      "\n",
      "Correct, this haiku has 3 lines.\n",
      "==================================\u001b[1m Ai Message \u001b[0m==================================\n",
      "Tool Calls:\n",
      "  check_haiku_lines (4cbeef75-beab-4fe4-aa6e-67c762a47a0d)\n",
      " Call ID: 4cbeef75-beab-4fe4-aa6e-67c762a47a0d\n",
      "  Args:\n",
      "    text: Morning sun on the track\n",
      "breath fog lifts with each stride\n",
      "finish line glows bright\n",
      "=================================\u001b[1m Tool Message \u001b[0m=================================\n",
      "Name: check_haiku_lines\n",
      "\n",
      "Correct, this haiku has 3 lines.\n",
      "==================================\u001b[1m Ai Message \u001b[0m==================================\n",
      "Tool Calls:\n",
      "  check_haiku_lines (ddcb960e-aca0-4c85-bd11-2aa64e4c7fc9)\n",
      " Call ID: ddcb960e-aca0-4c85-bd11-2aa64e4c7fc9\n",
      "  Args:\n",
      "    text: Morning light on courts\n",
      "ball spins, hearts beat in rhythm\n",
      "victory's echo\n",
      "=================================\u001b[1m Tool Message \u001b[0m=================================\n",
      "Name: check_haiku_lines\n",
      "\n",
      "Correct, this haiku has 3 lines.\n",
      "==================================\u001b[1m Ai Message \u001b[0m==================================\n",
      "Tool Calls:\n",
      "  check_haiku_lines (2f0d3ef8-8982-4913-8fe4-d698d703b80d)\n",
      " Call ID: 2f0d3ef8-8982-4913-8fe4-d698d703b80d\n",
      "  Args:\n",
      "    text: Midnight sprint, stars witness,\n",
      "breath like fire, feet meet the lane,\n",
      "glory waits ahead\n",
      "=================================\u001b[1m Tool Message \u001b[0m=================================\n",
      "Name: check_haiku_lines\n",
      "\n",
      "Correct, this haiku has 3 lines.\n",
      "==================================\u001b[1m Ai Message \u001b[0m==================================\n",
      "\n",
      "**Haiku**\n",
      "\n",
      "Stars watch midnight run  \n",
      "Breath like fire, feet collide bright  \n",
      "Glory waits ahead\n"
     ]
    }
   ],
   "source": [
    "for i, msg in enumerate(result[\"messages\"]):\n",
    "    msg.pretty_print()"
   ]
  }
 ],
 "metadata": {
  "kernelspec": {
   "display_name": ".venv",
   "language": "python",
   "name": "python3"
  },
  "language_info": {
   "codemirror_mode": {
    "name": "ipython",
    "version": 3
   },
   "file_extension": ".py",
   "mimetype": "text/x-python",
   "name": "python",
   "nbconvert_exporter": "python",
   "pygments_lexer": "ipython3",
   "version": "3.12.10"
  }
 },
 "nbformat": 4,
 "nbformat_minor": 5
}
