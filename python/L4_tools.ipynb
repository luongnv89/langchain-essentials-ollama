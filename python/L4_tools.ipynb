{
 "cells": [
  {
   "cell_type": "markdown",
   "id": "e0c82cb7-58cc-4cf0-86af-5ecefa582a09",
   "metadata": {},
   "source": [
    "# Tools  🔨🪚🔩⚙️⚒️🧲🧰🔧🪛🔩⚙️🔦🧭🔗⛓️🧮\n",
    "Tools allow agents to 'Act' in the real world. \n",
    "Careful descriptions can help your agent discover how to use your tools.\n",
    "\n",
    "LangChain supports many tool formats and tool sets. Here we will cover some common cases, but check the [docs](https://docs.langchain.com/oss/python/langchain/tools) for more information."
   ]
  },
  {
   "cell_type": "markdown",
   "id": "b605524d-263b-4384-8eb6-33b8551207fb",
   "metadata": {},
   "source": [
    "## Setup"
   ]
  },
  {
   "cell_type": "markdown",
   "id": "67f5c752-bbbf-46a0-a0d0-4b4e4d23fd9b",
   "metadata": {},
   "source": [
    "Load and/or check for needed environmental variables"
   ]
  },
  {
   "cell_type": "code",
   "execution_count": 4,
   "id": "048019c5-15bf-4ac1-8220-de9b51647e41",
   "metadata": {},
   "outputs": [
    {
     "name": "stdout",
     "output_type": "stream",
     "text": [
      "OPENAI_API_KEY=<not set>\n",
      "LANGSMITH_API_KEY=****4abe\n",
      "LANGSMITH_TRACING=true\n",
      "LANGSMITH_PROJECT=****ad-6\n"
     ]
    }
   ],
   "source": [
    "from dotenv import load_dotenv\n",
    "from env_utils import doublecheck_env\n",
    "\n",
    "# Load environment variables from .env\n",
    "load_dotenv()\n",
    "\n",
    "# Check and print results\n",
    "doublecheck_env(\"example.env\")"
   ]
  },
  {
   "cell_type": "markdown",
   "id": "4c53ed3e-fc58-487b-a6cd-6313c5b884e8",
   "metadata": {},
   "source": [
    "## Calculator example\n",
    "\n",
    "In this example, the docstring and inferred arguments and argument types are used by the LLM to detetermine when and how to call the tool."
   ]
  },
  {
   "cell_type": "code",
   "execution_count": 5,
   "id": "bece95ba-d225-40c2-a085-e09c062ebfa2",
   "metadata": {},
   "outputs": [],
   "source": [
    "from typing import Literal\n",
    "\n",
    "from langchain.tools import tool\n",
    "\n",
    "\n",
    "@tool\n",
    "def real_number_calculator(\n",
    "    a: float, b: float, operation: Literal[\"add\", \"subtract\", \"multiply\", \"divide\"]\n",
    ") -> float:\n",
    "    \"\"\"Perform basic arithmetic operations on two real numbers.\"\"\"\n",
    "    print(\"🧮 Invoking calculator tool\")\n",
    "    # Perform the specified operation\n",
    "    if operation == \"add\":\n",
    "        return a + b\n",
    "    elif operation == \"subtract\":\n",
    "        return a - b\n",
    "    elif operation == \"multiply\":\n",
    "        return a * b\n",
    "    elif operation == \"divide\":\n",
    "        if b == 0:\n",
    "            raise ValueError(\"Division by zero is not allowed.\")\n",
    "        return a / b\n",
    "    else:\n",
    "        raise ValueError(f\"Invalid operation: {operation}\")"
   ]
  },
  {
   "cell_type": "code",
   "execution_count": 6,
   "id": "fd3e9c61-ae41-48a9-a623-24c9169df0bc",
   "metadata": {},
   "outputs": [],
   "source": [
    "from langchain.agents import create_agent\n",
    "\n",
    "agent = create_agent(\n",
    "    model=\"ollama:gpt-oss:20b\",\n",
    "    tools=[real_number_calculator],\n",
    "    system_prompt=\"You are a helpful assistant\",\n",
    ")"
   ]
  },
  {
   "cell_type": "markdown",
   "id": "dfa8d43e-2df7-4486-a06a-6f79154f0ada",
   "metadata": {},
   "source": [
    "This invokes your calculator tool."
   ]
  },
  {
   "cell_type": "code",
   "execution_count": 7,
   "id": "40257bea-c985-4ee3-9438-60b96a3a40a8",
   "metadata": {},
   "outputs": [
    {
     "name": "stdout",
     "output_type": "stream",
     "text": [
      "🧮 Invoking calculator tool\n",
      "\\(3.1125 \\times 4.1234 \\;=\\; 12.8340825\\)\n"
     ]
    }
   ],
   "source": [
    "result = agent.invoke(\n",
    "    {\"messages\": [{\"role\": \"user\", \"content\": \"what is 3.1125 * 4.1234\"}]}\n",
    ")\n",
    "print(result[\"messages\"][-1].content)"
   ]
  },
  {
   "cell_type": "markdown",
   "id": "e61a86a3-88e3-414d-af10-d8f648e236be",
   "metadata": {},
   "source": [
    "We can check the **metadata** in [LangSmith Observability](https://smith.langchain.com/public/b77bde6c-f0ad-4256-bfab-7d514ece3405/r) to see this."
   ]
  },
  {
   "cell_type": "markdown",
   "id": "a6c95efc-b094-4d4f-b99f-9945852f137b",
   "metadata": {},
   "source": [
    "The tool description can have a big impact. \n",
    "This may not  invoke your calculator tool because the inputs are integers.  (results vary from run to run)"
   ]
  },
  {
   "cell_type": "code",
   "execution_count": 8,
   "id": "146c2b0c-3da9-4761-9987-0fc8cfde994f",
   "metadata": {},
   "outputs": [
    {
     "name": "stdout",
     "output_type": "stream",
     "text": [
      "🧮 Invoking calculator tool\n",
      "3 × 4 = 12.\n"
     ]
    }
   ],
   "source": [
    "result = agent.invoke({\"messages\": [{\"role\": \"user\", \"content\": \"what is 3 * 4\"}]})\n",
    "print(result[\"messages\"][-1].content)"
   ]
  },
  {
   "cell_type": "markdown",
   "id": "197a6db3-f523-49f9-b905-f600d2e47140",
   "metadata": {},
   "source": [
    "This often does not invoke the tool though the input are real numbers. (results vary from run to run)"
   ]
  },
  {
   "cell_type": "code",
   "execution_count": 9,
   "id": "c7ee1a08-b0ad-474e-9ace-ad1f278c133c",
   "metadata": {},
   "outputs": [
    {
     "name": "stdout",
     "output_type": "stream",
     "text": [
      "🧮 Invoking calculator tool\n",
      "\\(3.0 \\times 4.0 = 12.0\\)\n"
     ]
    }
   ],
   "source": [
    "result = agent.invoke({\"messages\": [{\"role\": \"user\", \"content\": \"what is 3.0 * 4.0\"}]})\n",
    "print(result[\"messages\"][-1].content)"
   ]
  },
  {
   "cell_type": "markdown",
   "id": "5dd49403-0cd0-4101-9dc5-87ab58f38292",
   "metadata": {},
   "source": [
    "## Adding a more detailed description\n",
    "While a basic description is often sufficient, LangChain has support for enhanced descriptions. The example below uses one method: Google Style argument descriptions. Used with `parse_docstring=True`, this will parse and pass the arg descriptions to the model. You can rename the tool and change its description. This can be effective when you are sharing a standard tool but would like agent-specific instructions."
   ]
  },
  {
   "cell_type": "code",
   "execution_count": 10,
   "id": "b10c6317-8e28-43bc-afa9-436882c73e33",
   "metadata": {},
   "outputs": [],
   "source": [
    "from typing import Literal\n",
    "\n",
    "from langchain.tools import tool\n",
    "\n",
    "\n",
    "@tool(\n",
    "    \"calculator\",\n",
    "    parse_docstring=True,\n",
    "    description=(\n",
    "        \"Perform basic arithmetic operations on two real numbers.\"\n",
    "        \"Use this whenever you have operations on any numbers, even if they are integers.\"\n",
    "    ),\n",
    ")\n",
    "def real_number_calculator(\n",
    "    a: float, b: float, operation: Literal[\"add\", \"subtract\", \"multiply\", \"divide\"]\n",
    ") -> float:\n",
    "    \"\"\"Perform basic arithmetic operations on two real numbers.\n",
    "\n",
    "    Args:\n",
    "        a (float): The first number.\n",
    "        b (float): The second number.\n",
    "        operation (Literal[\"add\", \"subtract\", \"multiply\", \"divide\"]):\n",
    "            The arithmetic operation to perform.\n",
    "\n",
    "            - `\"add\"`: Returns the sum of `a` and `b`.\n",
    "            - `\"subtract\"`: Returns the result of `a - b`.\n",
    "            - `\"multiply\"`: Returns the product of `a` and `b`.\n",
    "            - `\"divide\"`: Returns the result of `a / b`. Raises an error if `b` is zero.\n",
    "\n",
    "    Returns:\n",
    "        float: The numerical result of the specified operation.\n",
    "\n",
    "    Raises:\n",
    "        ValueError: If an invalid operation is provided or division by zero is attempted.\n",
    "    \"\"\"\n",
    "    print(\"🧮  Invoking calculator tool\")\n",
    "    # Perform the specified operation\n",
    "    if operation == \"add\":\n",
    "        return a + b\n",
    "    elif operation == \"subtract\":\n",
    "        return a - b\n",
    "    elif operation == \"multiply\":\n",
    "        return a * b\n",
    "    elif operation == \"divide\":\n",
    "        if b == 0:\n",
    "            raise ValueError(\"Division by zero is not allowed.\")\n",
    "        return a / b\n",
    "    else:\n",
    "        raise ValueError(f\"Invalid operation: {operation}\")"
   ]
  },
  {
   "cell_type": "code",
   "execution_count": 11,
   "id": "a0514050-2d5b-4a8a-8f5b-cec0c9a1f865",
   "metadata": {},
   "outputs": [],
   "source": [
    "from langchain.agents import create_agent\n",
    "\n",
    "agent = create_agent(\n",
    "    model=\"ollama:gpt-oss:20b\",\n",
    "    tools=[real_number_calculator],\n",
    "    system_prompt=\"You are a helpful assistant\",\n",
    ")"
   ]
  },
  {
   "cell_type": "code",
   "execution_count": 12,
   "id": "39bc446d-d4f9-490e-9bb4-66da64b5d13f",
   "metadata": {},
   "outputs": [
    {
     "name": "stdout",
     "output_type": "stream",
     "text": [
      "🧮  Invoking calculator tool\n",
      "12.0\n"
     ]
    }
   ],
   "source": [
    "result = agent.invoke({\"messages\": [{\"role\": \"user\", \"content\": \"what is 3.0 * 4.0\"}]})\n",
    "print(result[\"messages\"][-1].content)"
   ]
  },
  {
   "cell_type": "markdown",
   "id": "7830dc5e-813e-4892-91cf-28decfeac0b4",
   "metadata": {},
   "source": [
    "Let's check our [LangSmith Observability trace](https://smith.langchain.com/public/7d65902c-bd3c-4fc6-bbd3-7c1d66566fda/r) to see the tool description."
   ]
  },
  {
   "cell_type": "code",
   "execution_count": 13,
   "id": "65a67292-d1ba-489c-a36c-02c47c1a23a7",
   "metadata": {},
   "outputs": [
    {
     "name": "stdout",
     "output_type": "stream",
     "text": [
      "🧮  Invoking calculator tool\n",
      "3 × 4 = 12.\n"
     ]
    }
   ],
   "source": [
    "result = agent.invoke({\"messages\": [{\"role\": \"user\", \"content\": \"what is 3 * 4\"}]})\n",
    "print(result[\"messages\"][-1].content)"
   ]
  },
  {
   "cell_type": "markdown",
   "id": "b6e96aed-6c4e-400c-96f6-570daa4b33af",
   "metadata": {},
   "source": [
    "## Try your own.\n",
    "Create a tool of your own and try it here!"
   ]
  },
  {
   "cell_type": "code",
   "execution_count": 14,
   "id": "2ccdac1a-c5bf-4257-8108-2b41122fbca6",
   "metadata": {},
   "outputs": [],
   "source": [
    "import os\n",
    "import platform\n",
    "import re\n",
    "import subprocess\n",
    "from datetime import datetime\n",
    "from typing import Any, Dict\n",
    "\n",
    "from langchain.tools import tool\n",
    "\n",
    "\n",
    "@tool(\n",
    "    \"system_resource_snapshot\",\n",
    "    parse_docstring=True,\n",
    ")\n",
    "def system_resource_snapshot() -> Dict[str, Any]:\n",
    "    \"\"\"Capture current CPU load averages and memory usage on macOS or Unix systems.\n",
    "\n",
    "    Returns:\n",
    "        Dict[str, Any]: A dictionary with top-level ``cpu`` and ``memory`` keys. The\n",
    "            ``cpu`` entry contains the logical core count, recent load averages, and\n",
    "            an instantaneous usage breakdown (when ``top`` output is available).\n",
    "            The ``memory`` entry reports total, available, and used bytes using\n",
    "            ``vm_stat`` on macOS or ``/proc/meminfo`` on Linux. Both sections also\n",
    "            include raw values from the underlying OS utilities.\n",
    "    \"\"\"\n",
    "\n",
    "    def _load_average() -> Dict[str, float]:\n",
    "        try:\n",
    "            load1, load5, load15 = os.getloadavg()\n",
    "            return {\"1m\": load1, \"5m\": load5, \"15m\": load15}\n",
    "        except OSError:\n",
    "            return {}\n",
    "\n",
    "    def _cpu_usage() -> Dict[str, Any]:\n",
    "        system = platform.system().lower()\n",
    "        if system == \"darwin\":\n",
    "            cmd = [\"top\", \"-l\", \"1\", \"-n\", \"0\"]\n",
    "            line_prefix = \"CPU usage\"\n",
    "        else:\n",
    "            cmd = [\"top\", \"-b\", \"-n\", \"1\"]\n",
    "            line_prefix = \"%Cpu(s):\" if system == \"linux\" else \"Cpu(s):\"\n",
    "\n",
    "        try:\n",
    "            output = subprocess.check_output(cmd, stderr=subprocess.STDOUT, text=True)\n",
    "        except (subprocess.CalledProcessError, FileNotFoundError):\n",
    "            return {}\n",
    "\n",
    "        for line in output.splitlines():\n",
    "            if line.strip().startswith(line_prefix):\n",
    "                matches = re.findall(r\"([0-9]+\\.?[0-9]*)%\\s*([a-zA-Z]+)\", line)\n",
    "                if not matches:\n",
    "                    continue\n",
    "                usage = {}\n",
    "                for value, label in matches:\n",
    "                    usage[label.lower()] = float(value)\n",
    "                usage[\"raw_line\"] = line.strip()\n",
    "                return usage\n",
    "        return {}\n",
    "\n",
    "    def _memory_stats() -> Dict[str, Any]:\n",
    "        system = platform.system().lower()\n",
    "        if system == \"darwin\":\n",
    "            return _memory_stats_darwin()\n",
    "        if system == \"linux\":\n",
    "            return _memory_stats_linux()\n",
    "        return {\"error\": f\"Unsupported platform for detailed memory stats: {system}\"}\n",
    "\n",
    "    def _memory_stats_darwin() -> Dict[str, Any]:\n",
    "        try:\n",
    "            total_bytes = int(subprocess.check_output([\"sysctl\", \"-n\", \"hw.memsize\"]).strip())\n",
    "        except (subprocess.CalledProcessError, FileNotFoundError, ValueError):\n",
    "            total_bytes = None\n",
    "\n",
    "        try:\n",
    "            vm_output = subprocess.check_output([\"vm_stat\"], text=True)\n",
    "        except (subprocess.CalledProcessError, FileNotFoundError):\n",
    "            return {\"total_bytes\": total_bytes}\n",
    "\n",
    "        page_size_match = re.search(r\"page size of (\\d+) bytes\", vm_output)\n",
    "        page_size = int(page_size_match.group(1)) if page_size_match else 4096\n",
    "\n",
    "        stats: Dict[str, int] = {}\n",
    "        for line in vm_output.splitlines():\n",
    "            if \":\" not in line:\n",
    "                continue\n",
    "            key, value = line.split(\":\", 1)\n",
    "            try:\n",
    "                stats[key.strip()] = int(value.strip().strip('.'))\n",
    "            except ValueError:\n",
    "                continue\n",
    "\n",
    "        free_pages = stats.get(\"Pages free\", 0) + stats.get(\"Pages speculative\", 0)\n",
    "        inactive_pages = stats.get(\"Pages inactive\", 0)\n",
    "        available_bytes = (free_pages + inactive_pages) * page_size\n",
    "        used_bytes = (total_bytes - available_bytes) if (total_bytes is not None and available_bytes is not None) else None\n",
    "\n",
    "        return {\n",
    "            \"total_bytes\": total_bytes,\n",
    "            \"available_bytes\": available_bytes,\n",
    "            \"used_bytes\": used_bytes,\n",
    "            \"page_size\": page_size,\n",
    "            \"raw\": {\n",
    "                \"pages_free\": stats.get(\"Pages free\"),\n",
    "                \"pages_inactive\": stats.get(\"Pages inactive\"),\n",
    "                \"pages_speculative\": stats.get(\"Pages speculative\"),\n",
    "                \"pages_active\": stats.get(\"Pages active\"),\n",
    "                \"pages_wired\": stats.get(\"Pages wired down\"),\n",
    "            },\n",
    "        }\n",
    "\n",
    "    def _memory_stats_linux() -> Dict[str, Any]:\n",
    "        try:\n",
    "            with open(\"/proc/meminfo\", \"r\", encoding=\"utf-8\") as handle:\n",
    "                lines = handle.readlines()\n",
    "        except FileNotFoundError:\n",
    "            return {\"error\": \"Unable to read /proc/meminfo\"}\n",
    "\n",
    "        meminfo: Dict[str, int] = {}\n",
    "        for line in lines:\n",
    "            if ':' not in line:\n",
    "                continue\n",
    "            key, value = line.split(':', 1)\n",
    "            parts = value.strip().split()\n",
    "            if not parts:\n",
    "                continue\n",
    "            try:\n",
    "                amount = int(parts[0])\n",
    "            except ValueError:\n",
    "                continue\n",
    "            multiplier = 1024 if len(parts) > 1 and parts[1].lower() == \"kb\" else 1\n",
    "            meminfo[key] = amount * multiplier\n",
    "\n",
    "        total = meminfo.get(\"MemTotal\")\n",
    "        available = meminfo.get(\"MemAvailable\")\n",
    "        if available is None:\n",
    "            available = (\n",
    "                meminfo.get(\"MemFree\", 0)\n",
    "                + meminfo.get(\"Buffers\", 0)\n",
    "                + meminfo.get(\"Cached\", 0)\n",
    "                + meminfo.get(\"SReclaimable\", 0)\n",
    "                - meminfo.get(\"Shmem\", 0)\n",
    "            )\n",
    "        used = (total - available) if (total is not None and available is not None) else None\n",
    "\n",
    "        return {\n",
    "            \"total_bytes\": total,\n",
    "            \"available_bytes\": available,\n",
    "            \"used_bytes\": used,\n",
    "            \"raw\": {k: meminfo.get(k) for k in (\"MemFree\", \"Buffers\", \"Cached\", \"SReclaimable\", \"Shmem\")},\n",
    "        }\n",
    "\n",
    "    snapshot = {\n",
    "        \"timestamp\": datetime.utcnow().isoformat() + \"Z\",\n",
    "        \"platform\": platform.platform(),\n",
    "        \"cpu\": {\n",
    "            \"logical_cores\": os.cpu_count(),\n",
    "            \"load_average\": _load_average(),\n",
    "        },\n",
    "        \"memory\": _memory_stats(),\n",
    "    }\n",
    "\n",
    "    cpu_usage = _cpu_usage()\n",
    "    if cpu_usage:\n",
    "        snapshot[\"cpu\"][\"usage_percent\"] = cpu_usage\n",
    "\n",
    "    return snapshot\n"
   ]
  },
  {
   "cell_type": "code",
   "execution_count": 18,
   "id": "f181a5e1-717e-4ecc-abe8-5160c8d3db37",
   "metadata": {},
   "outputs": [],
   "source": [
    "from langchain.agents import create_agent\n",
    "\n",
    "agent = create_agent(\n",
    "    model=\"ollama:gpt-oss:20b\",\n",
    "    tools=[system_resource_snapshot],\n",
    "    system_prompt=\"You are system resource monitoring assistant. Provide detailed system resource snapshots when requested. Present the information in a clear and structured manner. Using mermaid syntax for visualization data analysis.\",\n",
    ")\n"
   ]
  },
  {
   "cell_type": "code",
   "execution_count": 19,
   "id": "4d5a4f74",
   "metadata": {},
   "outputs": [
    {
     "name": "stderr",
     "output_type": "stream",
     "text": [
      "/var/folders/0t/60hzjwl11r9blfgm7hphh65c0000gn/T/ipykernel_85537/2332795036.py:153: DeprecationWarning: datetime.datetime.utcnow() is deprecated and scheduled for removal in a future version. Use timezone-aware objects to represent datetimes in UTC: datetime.datetime.now(datetime.UTC).\n",
      "  \"timestamp\": datetime.utcnow().isoformat() + \"Z\",\n"
     ]
    },
    {
     "name": "stdout",
     "output_type": "stream",
     "text": [
      "**System Resource Snapshot – 2025‑10‑28 10:40:40 UTC**\n",
      "\n",
      "| Metric | Value |\n",
      "|--------|-------|\n",
      "| **Platform** | macOS 26.0.1 (arm64‑mac) |\n",
      "| **CPU** | 10 logical cores |\n",
      "| **CPU Load Averages** | 1 min: **4.314** | 5 min: **5.038** | 15 min: **4.926** |\n",
      "| **CPU Usage** | User : **8.53 %** | System : **13.46 %** | Idle : **77.99 %** |\n",
      "| **Memory** | Total : **34 GB** (34 359 738 368 bytes) |\n",
      "| | Available : **5.94 GB** (5 943 934 976 bytes) |\n",
      "| | Used : **28.42 GB** (28 415 803 392 bytes) |\n",
      "| | Page size : 16 KB |\n",
      "| | Pages free : **5 099** |\n",
      "| | Pages inactive : **357 388** |\n",
      "| | Pages speculative : **302** |\n",
      "| | Pages active : **357 992** |\n",
      "| | Pages wired : **1 090 231** |\n",
      "\n",
      "---\n",
      "\n",
      "### Visual Overview (Mermaid)\n",
      "\n",
      "```mermaid\n",
      "%% CPU load & usage\n",
      "pie title CPU Load (1‑5‑15 min)\n",
      "  \"1 min\" : 4.314\n",
      "  \"5 min\" : 5.038\n",
      "  \"15 min\": 4.926\n",
      "\n",
      "%% CPU usage distribution\n",
      "pie title CPU Usage (Current)\n",
      "  \"User\"   : 8.53\n",
      "  \"System\" : 13.46\n",
      "  \"Idle\"   : 77.99\n",
      "\n",
      "%% Memory usage\n",
      "pie title Memory Allocation\n",
      "  \"Used\"      : 28.42\n",
      "  \"Available\" : 5.94\n",
      "  \"Wired\"     : 1.09\n",
      "\n",
      "%% Page breakdown\n",
      "bar\n",
      "  title Memory Page Breakdown (pages)\n",
      "  \"Free\"          : 5,099\n",
      "  \"Inactive\"      : 357,388\n",
      "  \"Speculative\"   : 302\n",
      "  \"Active\"        : 357,992\n",
      "  \"Wired\"         : 1,090,231\n",
      "```\n",
      "\n",
      "---\n",
      "\n",
      "#### Interpretation\n",
      "\n",
      "* **CPU** – The system is lightly loaded. The 1‑min load (~4.3) is well below the 10‑core capacity, indicating plenty of headroom. Idle time is ~78 %, confirming a relaxed workload.\n",
      "* **Memory** – Roughly 82 % of RAM is currently in use, but almost 6 GB remains available. Wired pages (≈1.1 GB) are non‑evictable; the rest are pageable. The page counts show a healthy mix of active and inactive pages, with very few speculative pages.\n",
      "* **Overall health** – The machine is operating in a comfortable zone: CPU idle and memory largely free. No immediate action is required, but monitoring trends over time can pre‑empt any future saturation.\n",
      "\n",
      "Feel free to ask for a deeper dive into any particular subsystem or for a historical trend chart!\n"
     ]
    }
   ],
   "source": [
    "result = agent.invoke({\"messages\": [{\"role\": \"user\", \"content\": \"Take a system resource snapshot\"}]})\n",
    "print(result[\"messages\"][-1].content)"
   ]
  },
  {
   "cell_type": "code",
   "execution_count": null,
   "id": "43321ba1",
   "metadata": {},
   "outputs": [],
   "source": []
  }
 ],
 "metadata": {
  "kernelspec": {
   "display_name": ".venv",
   "language": "python",
   "name": "python3"
  },
  "language_info": {
   "codemirror_mode": {
    "name": "ipython",
    "version": 3
   },
   "file_extension": ".py",
   "mimetype": "text/x-python",
   "name": "python",
   "nbconvert_exporter": "python",
   "pygments_lexer": "ipython3",
   "version": "3.12.10"
  }
 },
 "nbformat": 4,
 "nbformat_minor": 5
}
