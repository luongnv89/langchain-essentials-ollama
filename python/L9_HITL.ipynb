{
 "cells": [
  {
   "cell_type": "markdown",
   "id": "e0c82cb7-58cc-4cf0-86af-5ecefa582a09",
   "metadata": {},
   "source": [
    "# Middleware: Human In The Loop\n",
    "<img src=\"./assets/LC_HITL.png\" width=\"300\">\n",
    "\n"
   ]
  },
  {
   "cell_type": "markdown",
   "id": "abcb8ffd-e0ea-41bb-9571-e11890f4f597",
   "metadata": {},
   "source": [
    "## Setup"
   ]
  },
  {
   "cell_type": "code",
   "execution_count": 1,
   "id": "fff8b742-55cb-49f8-9623-a5ea37c4d0cb",
   "metadata": {},
   "outputs": [
    {
     "name": "stdout",
     "output_type": "stream",
     "text": [
      "OPENAI_API_KEY=<not set>\n",
      "LANGSMITH_API_KEY=****4abe\n",
      "LANGSMITH_TRACING=true\n",
      "LANGSMITH_PROJECT=****ad-6\n"
     ]
    }
   ],
   "source": [
    "from dotenv import load_dotenv\n",
    "from env_utils import doublecheck_env\n",
    "\n",
    "# Load environment variables from .env\n",
    "load_dotenv()\n",
    "\n",
    "# Check and print results\n",
    "doublecheck_env(\"example.env\")"
   ]
  },
  {
   "cell_type": "code",
   "execution_count": 2,
   "id": "1ba24dd6-7a31-4fba-8077-2bff96e1ed4a",
   "metadata": {},
   "outputs": [],
   "source": [
    "from langchain_community.utilities import SQLDatabase\n",
    "\n",
    "db = SQLDatabase.from_uri(\"sqlite:///Chinook.db\")"
   ]
  },
  {
   "cell_type": "code",
   "execution_count": 3,
   "id": "c6283015",
   "metadata": {},
   "outputs": [],
   "source": [
    "from dataclasses import dataclass\n",
    "\n",
    "@dataclass\n",
    "class RuntimeContext:\n",
    "    db: SQLDatabase"
   ]
  },
  {
   "cell_type": "code",
   "execution_count": null,
   "id": "1c441379-d050-4353-a936-f0c7650c141a",
   "metadata": {},
   "outputs": [],
   "source": [
    "from langchain_core.tools import tool\n",
    "from langgraph.runtime import get_runtime\n",
    "\n",
    "\n",
    "@tool\n",
    "def execute_sql(query: str) -> str:\n",
    "    \"\"\"Execute a SQLite command and return results.\"\"\"\n",
    "    runtime = get_runtime(RuntimeContext)\n",
    "    db = runtime.context.db\n",
    "\n",
    "    try:\n",
    "        return db.run(query)\n",
    "    except Exception as e:\n",
    "        return f\"Error: {e}\""
   ]
  },
  {
   "cell_type": "code",
   "execution_count": 5,
   "id": "5d8f5e3c-d792-434b-9339-3289bbf8398a",
   "metadata": {},
   "outputs": [],
   "source": [
    "SYSTEM_PROMPT = \"\"\"You are a careful SQLite analyst.\n",
    "\n",
    "Rules:\n",
    "- Think step-by-step.\n",
    "- When you need data, call the tool `execute_sql` with ONE SELECT query.\n",
    "- Read-only only; no INSERT/UPDATE/DELETE/ALTER/DROP/CREATE/REPLACE/TRUNCATE.\n",
    "- Limit to 5 rows unless the user explicitly asks otherwise.\n",
    "- If the tool returns 'Error:', revise the SQL and try again.\n",
    "- Prefer explicit column lists; avoid SELECT *.\n",
    "- If the database is offline, ask user to try again later without further comment.\n",
    "\"\"\""
   ]
  },
  {
   "cell_type": "markdown",
   "id": "26902706-1628-4907-bda3-e13c241b3464",
   "metadata": {},
   "source": [
    "## Middleware"
   ]
  },
  {
   "cell_type": "code",
   "execution_count": 6,
   "id": "a26b4586-453a-4c10-9fae-4be3f4cb6cd4",
   "metadata": {},
   "outputs": [],
   "source": [
    "from langchain.agents import create_agent\n",
    "from langchain.agents.middleware import HumanInTheLoopMiddleware\n",
    "from langgraph.checkpoint.memory import InMemorySaver\n",
    "\n",
    "agent = create_agent(\n",
    "    model=\"ollama:gpt-oss:20b\",\n",
    "    tools=[execute_sql],\n",
    "    system_prompt=SYSTEM_PROMPT,\n",
    "    checkpointer=InMemorySaver(),\n",
    "    context_schema=RuntimeContext,\n",
    "    middleware=[\n",
    "        HumanInTheLoopMiddleware(\n",
    "            interrupt_on={\"execute_sql\": {\"allowed_decisions\": [\"approve\", \"reject\"]}},\n",
    "        ),\n",
    "    ],\n",
    ")"
   ]
  },
  {
   "cell_type": "code",
   "execution_count": 7,
   "id": "27fe7425-5e42-43dc-ac6a-d13187dfde2a",
   "metadata": {},
   "outputs": [
    {
     "name": "stdout",
     "output_type": "stream",
     "text": [
      "\u001b[1;3;31m--------------------------------------------------------------------------------\u001b[0m\n",
      "\u001b[1;3;31m Interrupt:Tool execution requires approval\n",
      "\n",
      "Tool: execute_sql\n",
      "Args: {'query': 'SELECT name FROM employees LIMIT 5;'}\u001b[0m\n",
      "\u001b[1;3;31m--------------------------------------------------------------------------------\u001b[0m\n",
      "I’m sorry, but the database is currently offline. Please try again later.\n"
     ]
    }
   ],
   "source": [
    "from langgraph.types import Command\n",
    "\n",
    "question = \"What are the names of all the employees?\"\n",
    "\n",
    "config = {\"configurable\": {\"thread_id\": \"1\"}}\n",
    "\n",
    "result = agent.invoke(\n",
    "    {\"messages\": [{\"role\": \"user\", \"content\": question}]},\n",
    "    config=config,\n",
    "    context=RuntimeContext(db=db)\n",
    ")\n",
    "\n",
    "if \"__interrupt__\" in result:\n",
    "    description = result['__interrupt__'][-1].value['action_requests'][-1]['description']\n",
    "    print(f\"\\033[1;3;31m{80 * '-'}\\033[0m\")\n",
    "    print(\n",
    "        f\"\\033[1;3;31m Interrupt:{description}\\033[0m\"\n",
    "    )\n",
    "\n",
    "    result = agent.invoke(\n",
    "        Command(\n",
    "            resume={\n",
    "                \"decisions\": [{\"type\": \"reject\", \"message\": \"the database is offline.\"}]\n",
    "            }\n",
    "        ),\n",
    "        config=config,  # Same thread ID to resume the paused conversation\n",
    "        context=RuntimeContext(db=db),\n",
    "    )\n",
    "    print(f\"\\033[1;3;31m{80 * '-'}\\033[0m\")\n",
    "\n",
    "print(result[\"messages\"][-1].content)"
   ]
  },
  {
   "cell_type": "code",
   "execution_count": 8,
   "id": "31e747fa",
   "metadata": {},
   "outputs": [
    {
     "name": "stdout",
     "output_type": "stream",
     "text": [
      "\u001b[1;3;31m--------------------------------------------------------------------------------\u001b[0m\n",
      "\u001b[1;3;31m Interrupt:Tool execution requires approval\n",
      "\n",
      "Tool: execute_sql\n",
      "Args: {'query': 'SELECT name FROM employees'}\u001b[0m\n",
      "\u001b[1;3;31m--------------------------------------------------------------------------------\u001b[0m\n",
      "\u001b[1;3;31m Interrupt:Tool execution requires approval\n",
      "\n",
      "Tool: execute_sql\n",
      "Args: {'query': \"SELECT name FROM sqlite_master WHERE type='table'\"}\u001b[0m\n",
      "\u001b[1;3;31m--------------------------------------------------------------------------------\u001b[0m\n",
      "\u001b[1;3;31m Interrupt:Tool execution requires approval\n",
      "\n",
      "Tool: execute_sql\n",
      "Args: {'query': 'SELECT FirstName, LastName FROM Employee'}\u001b[0m\n",
      "================================\u001b[1m Human Message \u001b[0m=================================\n",
      "\n",
      "What are the names of all the employees?\n",
      "==================================\u001b[1m Ai Message \u001b[0m==================================\n",
      "Tool Calls:\n",
      "  execute_sql (7070313a-bee5-4b01-88be-a4640680767a)\n",
      " Call ID: 7070313a-bee5-4b01-88be-a4640680767a\n",
      "  Args:\n",
      "    query: SELECT name FROM employees\n",
      "=================================\u001b[1m Tool Message \u001b[0m=================================\n",
      "Name: execute_sql\n",
      "\n",
      "Error: (sqlite3.OperationalError) no such table: employees\n",
      "[SQL: SELECT name FROM employees]\n",
      "(Background on this error at: https://sqlalche.me/e/20/e3q8)\n",
      "==================================\u001b[1m Ai Message \u001b[0m==================================\n",
      "Tool Calls:\n",
      "  execute_sql (5d67e224-7346-4e25-a0d8-7296b0f29b74)\n",
      " Call ID: 5d67e224-7346-4e25-a0d8-7296b0f29b74\n",
      "  Args:\n",
      "    query: SELECT name FROM sqlite_master WHERE type='table'\n",
      "=================================\u001b[1m Tool Message \u001b[0m=================================\n",
      "Name: execute_sql\n",
      "\n",
      "[('Album',), ('Artist',), ('Customer',), ('Employee',), ('Genre',), ('Invoice',), ('InvoiceLine',), ('MediaType',), ('Playlist',), ('PlaylistTrack',), ('Track',)]\n",
      "==================================\u001b[1m Ai Message \u001b[0m==================================\n",
      "Tool Calls:\n",
      "  execute_sql (e647560a-162c-4d6d-8ad5-4dbed707fced)\n",
      " Call ID: e647560a-162c-4d6d-8ad5-4dbed707fced\n",
      "  Args:\n",
      "    query: SELECT FirstName, LastName FROM Employee\n",
      "=================================\u001b[1m Tool Message \u001b[0m=================================\n",
      "Name: execute_sql\n",
      "\n",
      "[('Andrew', 'Adams'), ('Nancy', 'Edwards'), ('Jane', 'Peacock'), ('Margaret', 'Park'), ('Steve', 'Johnson'), ('Michael', 'Mitchell'), ('Robert', 'King'), ('Laura', 'Callahan')]\n",
      "==================================\u001b[1m Ai Message \u001b[0m==================================\n",
      "\n",
      "**Employees**\n",
      "\n",
      "1. Andrew Adams  \n",
      "2. Nancy Edwards  \n",
      "3. Jane Peacock  \n",
      "4. Margaret Park  \n",
      "5. Steve Johnson  \n",
      "6. Michael Mitchell  \n",
      "7. Robert King  \n",
      "8. Laura Callahan\n"
     ]
    }
   ],
   "source": [
    "config = {\"configurable\": {\"thread_id\": \"2\"}}\n",
    "\n",
    "result = agent.invoke(\n",
    "    {\"messages\": [{\"role\": \"user\", \"content\": question}]},\n",
    "    config=config,\n",
    "    context=RuntimeContext(db=db)\n",
    ")\n",
    "\n",
    "while \"__interrupt__\" in result:\n",
    "    description = result['__interrupt__'][-1].value['action_requests'][-1]['description']\n",
    "    print(f\"\\033[1;3;31m{80 * '-'}\\033[0m\")\n",
    "    print(\n",
    "        f\"\\033[1;3;31m Interrupt:{description}\\033[0m\"\n",
    "    )\n",
    "\n",
    "    result = agent.invoke(\n",
    "        Command(\n",
    "            resume={\"decisions\": [{\"type\": \"approve\"}]}\n",
    "        ),\n",
    "        config=config,  # Same thread ID to resume the paused conversation\n",
    "        context=RuntimeContext(db=db),\n",
    "    )\n",
    "\n",
    "for msg in result[\"messages\"]:\n",
    "    msg.pretty_print()"
   ]
  }
 ],
 "metadata": {
  "kernelspec": {
   "display_name": ".venv",
   "language": "python",
   "name": "python3"
  },
  "language_info": {
   "codemirror_mode": {
    "name": "ipython",
    "version": 3
   },
   "file_extension": ".py",
   "mimetype": "text/x-python",
   "name": "python",
   "nbconvert_exporter": "python",
   "pygments_lexer": "ipython3",
   "version": "3.12.10"
  }
 },
 "nbformat": 4,
 "nbformat_minor": 5
}
