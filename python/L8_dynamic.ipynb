{
 "cells": [
  {
   "cell_type": "markdown",
   "id": "fff8e916-9368-47b0-b085-5e2fde77993b",
   "metadata": {},
   "source": [
    "# Dynamic Prompt\n",
    "<img src=\"./assets/LC_DynamicPrompts.png\" width=\"500\">\n",
    "\n",
    "## Setup"
   ]
  },
  {
   "cell_type": "markdown",
   "id": "52f018f7-42c9-40d4-b934-43862ac40590",
   "metadata": {},
   "source": [
    "Load and/or check for needed environmental variables"
   ]
  },
  {
   "cell_type": "code",
   "execution_count": 11,
   "id": "7c63873e-c341-4d5c-8d52-7a36c49032a6",
   "metadata": {},
   "outputs": [
    {
     "name": "stdout",
     "output_type": "stream",
     "text": [
      "OPENAI_API_KEY=<not set>\n",
      "LANGSMITH_API_KEY=****4abe\n",
      "LANGSMITH_TRACING=true\n",
      "LANGSMITH_PROJECT=****ad-6\n"
     ]
    }
   ],
   "source": [
    "from dotenv import load_dotenv\n",
    "from env_utils import doublecheck_env\n",
    "\n",
    "# Load environment variables from .env\n",
    "load_dotenv()\n",
    "\n",
    "# Check and print results\n",
    "doublecheck_env(\"example.env\")"
   ]
  },
  {
   "cell_type": "code",
   "execution_count": 12,
   "id": "ed0080bb-d019-4da0-b75d-13e427173f78",
   "metadata": {},
   "outputs": [],
   "source": [
    "from langchain_community.utilities import SQLDatabase\n",
    "\n",
    "db = SQLDatabase.from_uri(\"sqlite:///Chinook.db\")"
   ]
  },
  {
   "cell_type": "code",
   "execution_count": 13,
   "id": "b60346fe-505d-4edc-b4be-a43ae4fb88e7",
   "metadata": {},
   "outputs": [],
   "source": [
    "from dataclasses import dataclass\n",
    "\n",
    "\n",
    "@dataclass\n",
    "class RuntimeContext:\n",
    "    is_employee: bool\n",
    "    db: SQLDatabase"
   ]
  },
  {
   "cell_type": "code",
   "execution_count": 14,
   "id": "44956582-7f68-4da5-8938-a77489795e64",
   "metadata": {},
   "outputs": [],
   "source": [
    "from langchain_core.tools import tool\n",
    "from langgraph.runtime import get_runtime\n",
    "\n",
    "@tool\n",
    "def execute_sql(query: str) -> str:\n",
    "    \"\"\"Execute a SQLite command and return results.\"\"\"\n",
    "    runtime = get_runtime(RuntimeContext)\n",
    "    db = runtime.context.db\n",
    "\n",
    "    try:\n",
    "        return db.run(query)\n",
    "    except Exception as e:\n",
    "        return f\"Error: {e}\""
   ]
  },
  {
   "cell_type": "code",
   "execution_count": 15,
   "id": "e4b004b5-5582-4815-80af-0d3307db19ea",
   "metadata": {},
   "outputs": [],
   "source": [
    "SYSTEM_PROMPT_TEMPLATE = \"\"\"You are a careful SQLite analyst.\n",
    "\n",
    "Rules:\n",
    "- Think step-by-step.\n",
    "- When you need data, call the tool `execute_sql` with ONE SELECT query.\n",
    "- Read-only only; no INSERT/UPDATE/DELETE/ALTER/DROP/CREATE/REPLACE/TRUNCATE.\n",
    "- Limit to 5 rows unless the user explicitly asks otherwise.\n",
    "{table_limits}\n",
    "- If the tool returns 'Error:', revise the SQL and try again.\n",
    "- Prefer explicit column lists; avoid SELECT *.\n",
    "\"\"\""
   ]
  },
  {
   "cell_type": "markdown",
   "id": "d797d816-d642-4f2d-839d-d9102e69cf72",
   "metadata": {},
   "source": [
    "## Build a Dynamic Prompt\n",
    "Utilize runtime context and middleware to generate a dynamic prompt."
   ]
  },
  {
   "cell_type": "code",
   "execution_count": 16,
   "id": "d033e009-bf20-46ff-9f58-0e531db16436",
   "metadata": {},
   "outputs": [],
   "source": [
    "from langchain.agents.middleware.types import ModelRequest, dynamic_prompt\n",
    "\n",
    "\n",
    "@dynamic_prompt\n",
    "def dynamic_system_prompt(request: ModelRequest) -> str:\n",
    "    if not request.runtime.context.is_employee:\n",
    "        table_limits = \"- Limit access to these tables: Album, Artist, Genre, Playlist, PlaylistTrack, Track.\"\n",
    "    else:\n",
    "        table_limits = \"\"\n",
    "\n",
    "    return SYSTEM_PROMPT_TEMPLATE.format(table_limits=table_limits)"
   ]
  },
  {
   "cell_type": "markdown",
   "id": "7782e72f-12fa-4238-b84e-564818011785",
   "metadata": {},
   "source": [
    "Include middleware in `create_agent`."
   ]
  },
  {
   "cell_type": "code",
   "execution_count": 17,
   "id": "ac312a68-5357-4156-ae65-15650057966c",
   "metadata": {},
   "outputs": [],
   "source": [
    "from langchain.agents import create_agent\n",
    "\n",
    "agent = create_agent(\n",
    "    model=\"ollama:gpt-oss:20b\",\n",
    "    tools=[execute_sql],\n",
    "    middleware=[dynamic_system_prompt],\n",
    "    context_schema=RuntimeContext,\n",
    ")"
   ]
  },
  {
   "cell_type": "code",
   "execution_count": 18,
   "id": "04f27e7f-0517-40d4-bd2c-b015563138dc",
   "metadata": {},
   "outputs": [
    {
     "name": "stdout",
     "output_type": "stream",
     "text": [
      "================================\u001b[1m Human Message \u001b[0m=================================\n",
      "\n",
      "What is the most costly purchase by Frank Harris?\n",
      "==================================\u001b[1m Ai Message \u001b[0m==================================\n",
      "Tool Calls:\n",
      "  execute_sql (2b21d9b7-ac45-4f52-b535-0a16da83f4bd)\n",
      " Call ID: 2b21d9b7-ac45-4f52-b535-0a16da83f4bd\n",
      "  Args:\n",
      "    query: SELECT t.Name, t.UnitPrice\n",
      "FROM Track t\n",
      "JOIN Album a ON t.AlbumId = a.AlbumId\n",
      "JOIN Artist ar ON a.ArtistId = ar.ArtistId\n",
      "WHERE ar.Name = 'Frank Harris'\n",
      "ORDER BY t.UnitPrice DESC\n",
      "LIMIT 1;\n",
      "=================================\u001b[1m Tool Message \u001b[0m=================================\n",
      "Name: execute_sql\n",
      "\n",
      "\n",
      "==================================\u001b[1m Ai Message \u001b[0m==================================\n",
      "\n",
      "I’m sorry, but the tables that contain purchase information (such as Invoice, InvoiceLine, or Customer) aren’t available in the current schema, so I can’t determine who “Frank Harris” is or what he purchased.  \n",
      "\n",
      "If you have a different table or dataset that includes purchase records, let me know and I can help query that instead!\n"
     ]
    }
   ],
   "source": [
    "question = \"What is the most costly purchase by Frank Harris?\"\n",
    "\n",
    "for step in agent.stream(\n",
    "    {\"messages\": [{\"role\": \"user\", \"content\": question}]},\n",
    "    context=RuntimeContext(is_employee=False, db=db),\n",
    "    stream_mode=\"values\",\n",
    "):\n",
    "    step[\"messages\"][-1].pretty_print()"
   ]
  },
  {
   "cell_type": "code",
   "execution_count": 19,
   "id": "a90f6731-d76f-4698-a4a0-1805b0d2d321",
   "metadata": {},
   "outputs": [
    {
     "name": "stdout",
     "output_type": "stream",
     "text": [
      "================================\u001b[1m Human Message \u001b[0m=================================\n",
      "\n",
      "What is the most costly purchase by Frank Harris?\n",
      "==================================\u001b[1m Ai Message \u001b[0m==================================\n",
      "Tool Calls:\n",
      "  execute_sql (8e0f926a-29b3-4a66-8c94-56f8c57ea9f0)\n",
      " Call ID: 8e0f926a-29b3-4a66-8c94-56f8c57ea9f0\n",
      "  Args:\n",
      "    query: PRAGMA table_info(purchases);\n",
      "=================================\u001b[1m Tool Message \u001b[0m=================================\n",
      "Name: execute_sql\n",
      "\n",
      "\n",
      "==================================\u001b[1m Ai Message \u001b[0m==================================\n",
      "Tool Calls:\n",
      "  execute_sql (fbb31031-68ff-4837-8b36-6c90eceec6aa)\n",
      " Call ID: fbb31031-68ff-4837-8b36-6c90eceec6aa\n",
      "  Args:\n",
      "    query: SELECT name FROM sqlite_master WHERE type='table';\n",
      "=================================\u001b[1m Tool Message \u001b[0m=================================\n",
      "Name: execute_sql\n",
      "\n",
      "[('Album',), ('Artist',), ('Customer',), ('Employee',), ('Genre',), ('Invoice',), ('InvoiceLine',), ('MediaType',), ('Playlist',), ('PlaylistTrack',), ('Track',)]\n",
      "==================================\u001b[1m Ai Message \u001b[0m==================================\n",
      "\n",
      "We need purchases by Frank Harris. We have tables: Customer, Invoice, InvoiceLine, etc. Frank Harris likely a customer. Let's find customer id.\n",
      "Tool Calls:\n",
      "  execute_sql (7ce5a5f7-715e-4b2e-bfd9-b8a333e770a5)\n",
      " Call ID: 7ce5a5f7-715e-4b2e-bfd9-b8a333e770a5\n",
      "  Args:\n",
      "    query: SELECT CustomerId, FirstName, LastName FROM Customer WHERE FirstName='Frank' AND LastName='Harris';\n",
      "=================================\u001b[1m Tool Message \u001b[0m=================================\n",
      "Name: execute_sql\n",
      "\n",
      "[(16, 'Frank', 'Harris')]\n",
      "==================================\u001b[1m Ai Message \u001b[0m==================================\n",
      "Tool Calls:\n",
      "  execute_sql (8d6d754a-093b-47b7-8b19-7841768ef428)\n",
      " Call ID: 8d6d754a-093b-47b7-8b19-7841768ef428\n",
      "  Args:\n",
      "    query: SELECT InvoiceId, InvoiceDate FROM Invoice WHERE CustomerId=16;\n",
      "=================================\u001b[1m Tool Message \u001b[0m=================================\n",
      "Name: execute_sql\n",
      "\n",
      "[(13, '2009-02-19 00:00:00'), (134, '2010-08-13 00:00:00'), (145, '2010-09-23 00:00:00'), (200, '2011-05-24 00:00:00'), (329, '2012-12-28 00:00:00'), (352, '2013-04-01 00:00:00'), (374, '2013-07-04 00:00:00')]\n",
      "==================================\u001b[1m Ai Message \u001b[0m==================================\n",
      "Tool Calls:\n",
      "  execute_sql (6d2ea291-ee81-476d-b231-bdfd1e314093)\n",
      " Call ID: 6d2ea291-ee81-476d-b231-bdfd1e314093\n",
      "  Args:\n",
      "    query: SELECT InvoiceId, InvoiceLineId, UnitPrice, Quantity, UnitPrice*Quantity AS Total FROM InvoiceLine WHERE InvoiceId IN (13,134,145,200,329,352,374);\n",
      "=================================\u001b[1m Tool Message \u001b[0m=================================\n",
      "Name: execute_sql\n",
      "\n",
      "[(13, 74, 0.99, 1, 0.99), (134, 723, 0.99, 1, 0.99), (134, 724, 0.99, 1, 0.99), (145, 782, 0.99, 1, 0.99), (145, 783, 0.99, 1, 0.99), (145, 784, 0.99, 1, 0.99), (145, 785, 0.99, 1, 0.99), (145, 786, 0.99, 1, 0.99), (145, 787, 0.99, 1, 0.99), (145, 788, 0.99, 1, 0.99), (145, 789, 0.99, 1, 0.99), (145, 790, 0.99, 1, 0.99), (145, 791, 0.99, 1, 0.99), (145, 792, 0.99, 1, 0.99), (145, 793, 0.99, 1, 0.99), (145, 794, 0.99, 1, 0.99), (145, 795, 0.99, 1, 0.99), (200, 1077, 0.99, 1, 0.99), (200, 1078, 0.99, 1, 0.99), (200, 1079, 0.99, 1, 0.99), (200, 1080, 0.99, 1, 0.99), (200, 1081, 0.99, 1, 0.99), (200, 1082, 0.99, 1, 0.99), (200, 1083, 0.99, 1, 0.99), (200, 1084, 0.99, 1, 0.99), (200, 1085, 0.99, 1, 0.99), (329, 1785, 0.99, 1, 0.99), (329, 1786, 0.99, 1, 0.99), (352, 1903, 0.99, 1, 0.99), (352, 1904, 0.99, 1, 0.99), (352, 1905, 0.99, 1, 0.99), (352, 1906, 0.99, 1, 0.99), (374, 2021, 0.99, 1, 0.99), (374, 2022, 0.99, 1, 0.99), (374, 2023, 0.99, 1, 0.99), (374, 2024, 0.99, 1, 0.99), (374, 2025, 0.99, 1, 0.99), (374, 2026, 0.99, 1, 0.99)]\n",
      "==================================\u001b[1m Ai Message \u001b[0m==================================\n",
      "Tool Calls:\n",
      "  execute_sql (7fc0f769-287f-4bee-b29a-3adf20e3b586)\n",
      " Call ID: 7fc0f769-287f-4bee-b29a-3adf20e3b586\n",
      "  Args:\n",
      "    query: SELECT i.InvoiceId, SUM(il.UnitPrice*il.Quantity) AS Total FROM Invoice i JOIN InvoiceLine il ON i.InvoiceId=il.InvoiceId WHERE i.CustomerId=16 GROUP BY i.InvoiceId ORDER BY Total DESC LIMIT 5;\n",
      "=================================\u001b[1m Tool Message \u001b[0m=================================\n",
      "Name: execute_sql\n",
      "\n",
      "[(145, 13.86), (200, 8.91), (374, 5.9399999999999995), (352, 3.96), (134, 1.98)]\n",
      "==================================\u001b[1m Ai Message \u001b[0m==================================\n",
      "\n",
      "The most expensive purchase Frank Harris made was the invoice dated **2010‑09‑23** (InvoiceId 145).  \n",
      "Its total amount was **$13.86** (13 tracks × $0.99 each).\n"
     ]
    }
   ],
   "source": [
    "question = \"What is the most costly purchase by Frank Harris?\"\n",
    "\n",
    "for step in agent.stream(\n",
    "    {\"messages\": [{\"role\": \"user\", \"content\": question}]},\n",
    "    context=RuntimeContext(is_employee=True, db=db),\n",
    "    stream_mode=\"values\",\n",
    "):\n",
    "    step[\"messages\"][-1].pretty_print()"
   ]
  },
  {
   "cell_type": "code",
   "execution_count": null,
   "id": "11a91723-b13c-41a7-b44f-153509a5101e",
   "metadata": {},
   "outputs": [],
   "source": []
  }
 ],
 "metadata": {
  "kernelspec": {
   "display_name": ".venv",
   "language": "python",
   "name": "python3"
  },
  "language_info": {
   "codemirror_mode": {
    "name": "ipython",
    "version": 3
   },
   "file_extension": ".py",
   "mimetype": "text/x-python",
   "name": "python",
   "nbconvert_exporter": "python",
   "pygments_lexer": "ipython3",
   "version": "3.12.10"
  }
 },
 "nbformat": 4,
 "nbformat_minor": 5
}
